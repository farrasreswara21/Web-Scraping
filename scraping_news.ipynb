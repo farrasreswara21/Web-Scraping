{
 "cells": [
  {
   "cell_type": "markdown",
   "metadata": {},
   "source": [
    "# Initiate"
   ]
  },
  {
   "cell_type": "code",
   "execution_count": 2,
   "metadata": {},
   "outputs": [],
   "source": [
    "import time\n",
    "import random\n",
    "import pandas as pd\n",
    "from selenium.webdriver.chrome.service import Service\n",
    "from selenium.webdriver.common.by import By\n",
    "from selenium.webdriver.common.keys import Keys\n",
    "from selenium.common.exceptions import NoSuchElementException\n",
    "from selenium.common.exceptions import StaleElementReferenceException \n",
    "from selenium import webdriver\n",
    "import tqdm"
   ]
  },
  {
   "cell_type": "code",
   "execution_count": 2,
   "metadata": {},
   "outputs": [],
   "source": [
    "s=Service('C:/SAINS DATA/msedgedriver.exe')\n",
    "options = webdriver.EdgeOptions()\n",
    "options.add_experimental_option(\"detach\", True)\n",
    "options.add_argument('disable_infobars')\n",
    "# options.headless = True"
   ]
  },
  {
   "cell_type": "code",
   "execution_count": 3,
   "metadata": {},
   "outputs": [
    {
     "data": {
      "text/html": [
       "<div>\n",
       "<style scoped>\n",
       "    .dataframe tbody tr th:only-of-type {\n",
       "        vertical-align: middle;\n",
       "    }\n",
       "\n",
       "    .dataframe tbody tr th {\n",
       "        vertical-align: top;\n",
       "    }\n",
       "\n",
       "    .dataframe thead th {\n",
       "        text-align: right;\n",
       "    }\n",
       "</style>\n",
       "<table border=\"1\" class=\"dataframe\">\n",
       "  <thead>\n",
       "    <tr style=\"text-align: right;\">\n",
       "      <th></th>\n",
       "      <th>No</th>\n",
       "      <th>Kode</th>\n",
       "      <th>Nama Perusahaan</th>\n",
       "      <th>2016</th>\n",
       "      <th>2017</th>\n",
       "      <th>2018</th>\n",
       "      <th>2019</th>\n",
       "      <th>2020</th>\n",
       "      <th>2021</th>\n",
       "      <th>2022</th>\n",
       "      <th>2023</th>\n",
       "      <th>2024</th>\n",
       "    </tr>\n",
       "  </thead>\n",
       "  <tbody>\n",
       "    <tr>\n",
       "      <th>0</th>\n",
       "      <td>1</td>\n",
       "      <td>AALI</td>\n",
       "      <td>Astra Agro Lestari</td>\n",
       "      <td>8</td>\n",
       "      <td>7</td>\n",
       "      <td>2</td>\n",
       "      <td>5</td>\n",
       "      <td>9</td>\n",
       "      <td>9</td>\n",
       "      <td>9</td>\n",
       "      <td>14</td>\n",
       "      <td>7</td>\n",
       "    </tr>\n",
       "    <tr>\n",
       "      <th>1</th>\n",
       "      <td>2</td>\n",
       "      <td>ABBA</td>\n",
       "      <td>Mahaka Media</td>\n",
       "      <td>2</td>\n",
       "      <td>0</td>\n",
       "      <td>1</td>\n",
       "      <td>3</td>\n",
       "      <td>3</td>\n",
       "      <td>4</td>\n",
       "      <td>1</td>\n",
       "      <td>1</td>\n",
       "      <td>2</td>\n",
       "    </tr>\n",
       "    <tr>\n",
       "      <th>2</th>\n",
       "      <td>3</td>\n",
       "      <td>ABDA</td>\n",
       "      <td>Asuransi Bina Dana Arta</td>\n",
       "      <td>0</td>\n",
       "      <td>1</td>\n",
       "      <td>0</td>\n",
       "      <td>0</td>\n",
       "      <td>0</td>\n",
       "      <td>0</td>\n",
       "      <td>4</td>\n",
       "      <td>1</td>\n",
       "      <td>1</td>\n",
       "    </tr>\n",
       "    <tr>\n",
       "      <th>3</th>\n",
       "      <td>4</td>\n",
       "      <td>ABMM</td>\n",
       "      <td>ABM Investama</td>\n",
       "      <td>0</td>\n",
       "      <td>1</td>\n",
       "      <td>2</td>\n",
       "      <td>0</td>\n",
       "      <td>2</td>\n",
       "      <td>2</td>\n",
       "      <td>9</td>\n",
       "      <td>0</td>\n",
       "      <td>6</td>\n",
       "    </tr>\n",
       "    <tr>\n",
       "      <th>4</th>\n",
       "      <td>5</td>\n",
       "      <td>ACES</td>\n",
       "      <td>Ace Hardware Indonesia</td>\n",
       "      <td>7</td>\n",
       "      <td>5</td>\n",
       "      <td>3</td>\n",
       "      <td>5</td>\n",
       "      <td>9</td>\n",
       "      <td>11</td>\n",
       "      <td>15</td>\n",
       "      <td>24</td>\n",
       "      <td>29</td>\n",
       "    </tr>\n",
       "  </tbody>\n",
       "</table>\n",
       "</div>"
      ],
      "text/plain": [
       "   No  Kode          Nama Perusahaan  2016  2017  2018  2019  2020  2021  \\\n",
       "0   1  AALI       Astra Agro Lestari     8     7     2     5     9     9   \n",
       "1   2  ABBA             Mahaka Media     2     0     1     3     3     4   \n",
       "2   3  ABDA  Asuransi Bina Dana Arta     0     1     0     0     0     0   \n",
       "3   4  ABMM            ABM Investama     0     1     2     0     2     2   \n",
       "4   5  ACES   Ace Hardware Indonesia     7     5     3     5     9    11   \n",
       "\n",
       "   2022  2023  2024  \n",
       "0     9    14     7  \n",
       "1     1     1     2  \n",
       "2     4     1     1  \n",
       "3     9     0     6  \n",
       "4    15    24    29  "
      ]
     },
     "execution_count": 3,
     "metadata": {},
     "output_type": "execute_result"
    }
   ],
   "source": [
    "news_sources = pd.read_excel(r\"C:\\CAREER\\CESGS\\Scraping News\\Updated_Daftar_Saham(After).xlsx\")\n",
    "news_sources.head()"
   ]
  },
  {
   "cell_type": "markdown",
   "metadata": {},
   "source": [
    "# Scraping"
   ]
  },
  {
   "cell_type": "code",
   "execution_count": 73,
   "metadata": {},
   "outputs": [
    {
     "name": "stderr",
     "output_type": "stream",
     "text": [
      "  0%|          | 0/3 [00:00<?, ?it/s]"
     ]
    },
    {
     "name": "stdout",
     "output_type": "stream",
     "text": [
      "Scraping Industri dan Perdagangan Bintraco Dharma...\n"
     ]
    },
    {
     "name": "stderr",
     "output_type": "stream",
     "text": [
      " 33%|███▎      | 1/3 [00:39<01:18, 39.06s/it]"
     ]
    },
    {
     "name": "stdout",
     "output_type": "stream",
     "text": [
      "Gathered 14 page for Industri dan Perdagangan Bintraco Dharma\n",
      "Scraped total 131 news\n",
      "-------------------------------------------\n",
      "Scraping Malacca Trust Wuwungan Insuran...\n"
     ]
    },
    {
     "name": "stderr",
     "output_type": "stream",
     "text": [
      " 67%|██████▋   | 2/3 [00:50<00:22, 22.71s/it]"
     ]
    },
    {
     "name": "stdout",
     "output_type": "stream",
     "text": [
      "Gathered 5 page for Malacca Trust Wuwungan Insuran\n",
      "Scraped total 177 news\n",
      "-------------------------------------------\n",
      "Scraping Pelayaran Nasional Ekalya Purnamasari...\n"
     ]
    },
    {
     "name": "stderr",
     "output_type": "stream",
     "text": [
      "100%|██████████| 3/3 [01:29<00:00, 29.74s/it]"
     ]
    },
    {
     "name": "stdout",
     "output_type": "stream",
     "text": [
      "Gathered 16 page for Pelayaran Nasional Ekalya Purnamasari\n",
      "Scraped total 317 news\n",
      "-------------------------------------------\n",
      "Done!\n"
     ]
    },
    {
     "name": "stderr",
     "output_type": "stream",
     "text": [
      "\n"
     ]
    }
   ],
   "source": [
    "driver = webdriver.Edge(service=s, options=options)\n",
    "url=\"https://www.google.com/search?q=Astra+Agro+Lestari%0D%0A&sca_esv=563020551&rlz=1C1CHZN_enID921ID921&biw=988&bih=662&tbm=nws&ei=DCWeZvzQDcaZseMPx7er-AM&ved=0ahUKEwj8hrfGqbqHAxXGTGwGHcfbCj84ogIQ4dUDCA0&uact=5&oq=Astra+Agro+Lestari%0D%0A&gs_lp=Egxnd3Mtd2l6LW5ld3MiE0FzdHJhIEFncm8gTGVzdGFyaQpIAFAAWABwAHgAkAEAmAEAoAEAqgEAuAEDyAEA-AEC-AEBmAIAoAIAmAMAkgcAoAcA&sclient=gws-wiz-news\"\n",
    "driver.get(url)\n",
    "\n",
    "time.sleep(3)\n",
    "\n",
    "title_list = []\n",
    "link_list = []\n",
    "date_list = []\n",
    "comp = []\n",
    "\n",
    "the_three_that_left_behind = ['Industri dan Perdagangan Bintraco Dharma',\n",
    "                                'Malacca Trust Wuwungan Insuran',\n",
    "                                'Pelayaran Nasional Ekalya Purnamasari']\n",
    "\n",
    "### SCRAPING ###\n",
    "for company in tqdm.tqdm(the_three_that_left_behind):\n",
    "    pagination = 1\n",
    "\n",
    "    search_area = driver.find_element(By.CSS_SELECTOR, 'textarea[class=\"gLFyf\"]')\n",
    "    search_area.clear()\n",
    "    search_area.send_keys(company)\n",
    "    time.sleep(0.1)\n",
    "    \n",
    "    search_button = driver.find_element(By.CSS_SELECTOR, 'button[class=\"HZVG1b Tg7LZd\"]')\n",
    "    search_button.click()\n",
    "    \n",
    "    print(f'Scraping {company}...')\n",
    "    time.sleep(0.7)\n",
    "    while True:\n",
    "        try:\n",
    "            # Get Links\n",
    "            links = driver.find_elements(By.CSS_SELECTOR, 'a[class = \"WlydOe\"]')\n",
    "            dates = driver.find_elements(By.CSS_SELECTOR, 'div[class = \"OSrXXb rbYSKb LfVVr\"]')\n",
    "            titles = driver.find_elements(By.CSS_SELECTOR, 'div[class=\"n0jPhd ynAwRc MBeuO nDgy9d\"]')\n",
    "\n",
    "            # Ensure lists are of the same length\n",
    "            length = min(len(links), len(dates), len(titles))\n",
    "\n",
    "            for i in range(length):\n",
    "                link_list.append(links[i].get_attribute('href'))\n",
    "                date_list.append(dates[i].text)\n",
    "                title_list.append(titles[i].text)\n",
    "                comp.append(company)\n",
    "            \n",
    "            # To the Next Page\n",
    "            next_page = driver.find_element(By.ID, 'pnnext')\n",
    "            next_page.click()\n",
    "            time.sleep(random.randint(1,2))\n",
    "            \n",
    "            pagination = pagination + 1\n",
    "        except NoSuchElementException:\n",
    "            print(f'Gathered {pagination} page for {company}')\n",
    "            break\n",
    "    \n",
    "    df_news = pd.DataFrame({'Nama Perusahaan':comp, \n",
    "                            'Link': link_list,\n",
    "                            'Title':title_list,\n",
    "                            'Date': date_list})\n",
    "    \n",
    "    \n",
    "    df_news.to_csv('Scraping Berita Perusahaan.csv', index=False)\n",
    "    print(f'Scraped total {len(link_list)} news')\n",
    "    print('-------------------------------------------')\n",
    "    \n",
    "print('Done!')\n",
    "        \n"
   ]
  },
  {
   "cell_type": "code",
   "execution_count": 74,
   "metadata": {},
   "outputs": [
    {
     "data": {
      "text/html": [
       "<div>\n",
       "<style scoped>\n",
       "    .dataframe tbody tr th:only-of-type {\n",
       "        vertical-align: middle;\n",
       "    }\n",
       "\n",
       "    .dataframe tbody tr th {\n",
       "        vertical-align: top;\n",
       "    }\n",
       "\n",
       "    .dataframe thead th {\n",
       "        text-align: right;\n",
       "    }\n",
       "</style>\n",
       "<table border=\"1\" class=\"dataframe\">\n",
       "  <thead>\n",
       "    <tr style=\"text-align: right;\">\n",
       "      <th></th>\n",
       "      <th>Nama Perusahaan</th>\n",
       "      <th>Link</th>\n",
       "      <th>Title</th>\n",
       "      <th>Date</th>\n",
       "    </tr>\n",
       "  </thead>\n",
       "  <tbody>\n",
       "    <tr>\n",
       "      <th>0</th>\n",
       "      <td>Industri dan Perdagangan Bintraco Dharma</td>\n",
       "      <td>https://industri.kontan.co.id/news/industri-da...</td>\n",
       "      <td>Industri dan Perdagangan Bintraco Dharma (CARS...</td>\n",
       "      <td>31 Mar 2024</td>\n",
       "    </tr>\n",
       "    <tr>\n",
       "      <th>1</th>\n",
       "      <td>Industri dan Perdagangan Bintraco Dharma</td>\n",
       "      <td>https://market.bisnis.com/read/20240320/192/17...</td>\n",
       "      <td>Pendapatan Bintraco Dharma (CARS) Tembus Rp6,4...</td>\n",
       "      <td>20 Mar 2024</td>\n",
       "    </tr>\n",
       "    <tr>\n",
       "      <th>2</th>\n",
       "      <td>Industri dan Perdagangan Bintraco Dharma</td>\n",
       "      <td>https://emitennews.com/news/perkuat-bisnis-oto...</td>\n",
       "      <td>Perkuat Bisnis Otomotif, Bintraco Dharma (CARS...</td>\n",
       "      <td>8 Mar 2024</td>\n",
       "    </tr>\n",
       "    <tr>\n",
       "      <th>3</th>\n",
       "      <td>Industri dan Perdagangan Bintraco Dharma</td>\n",
       "      <td>https://industri.kontan.co.id/news/penjualan-b...</td>\n",
       "      <td>Penjualan Bintraco Dharma (CARS) Capai Rp 1,65...</td>\n",
       "      <td>30 Apr 2024</td>\n",
       "    </tr>\n",
       "    <tr>\n",
       "      <th>4</th>\n",
       "      <td>Industri dan Perdagangan Bintraco Dharma</td>\n",
       "      <td>https://pasardana.id/news/2024/3/21/akuntan-pu...</td>\n",
       "      <td>Akuntan Publik Soroti 11 Anak Usaha CARS Milik...</td>\n",
       "      <td>21 Mar 2024</td>\n",
       "    </tr>\n",
       "  </tbody>\n",
       "</table>\n",
       "</div>"
      ],
      "text/plain": [
       "                            Nama Perusahaan  \\\n",
       "0  Industri dan Perdagangan Bintraco Dharma   \n",
       "1  Industri dan Perdagangan Bintraco Dharma   \n",
       "2  Industri dan Perdagangan Bintraco Dharma   \n",
       "3  Industri dan Perdagangan Bintraco Dharma   \n",
       "4  Industri dan Perdagangan Bintraco Dharma   \n",
       "\n",
       "                                                Link  \\\n",
       "0  https://industri.kontan.co.id/news/industri-da...   \n",
       "1  https://market.bisnis.com/read/20240320/192/17...   \n",
       "2  https://emitennews.com/news/perkuat-bisnis-oto...   \n",
       "3  https://industri.kontan.co.id/news/penjualan-b...   \n",
       "4  https://pasardana.id/news/2024/3/21/akuntan-pu...   \n",
       "\n",
       "                                               Title         Date  \n",
       "0  Industri dan Perdagangan Bintraco Dharma (CARS...  31 Mar 2024  \n",
       "1  Pendapatan Bintraco Dharma (CARS) Tembus Rp6,4...  20 Mar 2024  \n",
       "2  Perkuat Bisnis Otomotif, Bintraco Dharma (CARS...   8 Mar 2024  \n",
       "3  Penjualan Bintraco Dharma (CARS) Capai Rp 1,65...  30 Apr 2024  \n",
       "4  Akuntan Publik Soroti 11 Anak Usaha CARS Milik...  21 Mar 2024  "
      ]
     },
     "execution_count": 74,
     "metadata": {},
     "output_type": "execute_result"
    }
   ],
   "source": [
    "df_scraping_temp = pd.read_csv('Scraping Berita Perusahaan.csv')\n",
    "df_scraping_temp.head()"
   ]
  },
  {
   "cell_type": "code",
   "execution_count": 75,
   "metadata": {},
   "outputs": [
    {
     "data": {
      "text/html": [
       "<div>\n",
       "<style scoped>\n",
       "    .dataframe tbody tr th:only-of-type {\n",
       "        vertical-align: middle;\n",
       "    }\n",
       "\n",
       "    .dataframe tbody tr th {\n",
       "        vertical-align: top;\n",
       "    }\n",
       "\n",
       "    .dataframe thead th {\n",
       "        text-align: right;\n",
       "    }\n",
       "</style>\n",
       "<table border=\"1\" class=\"dataframe\">\n",
       "  <thead>\n",
       "    <tr style=\"text-align: right;\">\n",
       "      <th></th>\n",
       "      <th>Nama Perusahaan</th>\n",
       "      <th>Link</th>\n",
       "      <th>Title</th>\n",
       "      <th>Date</th>\n",
       "    </tr>\n",
       "  </thead>\n",
       "  <tbody>\n",
       "    <tr>\n",
       "      <th>36679</th>\n",
       "      <td>Zyrexindo Mandiri Buana</td>\n",
       "      <td>https://inet.detik.com/consumer/d-1173020/si-m...</td>\n",
       "      <td>Si Mungil yang Tak Hanya untuk Pemula</td>\n",
       "      <td>28 Jul 2009</td>\n",
       "    </tr>\n",
       "    <tr>\n",
       "      <th>36680</th>\n",
       "      <td>Zyrexindo Mandiri Buana</td>\n",
       "      <td>https://www.trenasia.com/laptop-untuk-sekolah-...</td>\n",
       "      <td>Kontroversi Laptop untuk Sekolah (Serial 1): S...</td>\n",
       "      <td>3 Agu 2021</td>\n",
       "    </tr>\n",
       "    <tr>\n",
       "      <th>36681</th>\n",
       "      <td>Zyrexindo Mandiri Buana</td>\n",
       "      <td>https://review1st.com/news/bocoran-harga-lapto...</td>\n",
       "      <td>Bocoran Harga Laptop Merah Putih: Dibanderol R...</td>\n",
       "      <td>24 Jul 2021</td>\n",
       "    </tr>\n",
       "    <tr>\n",
       "      <th>36682</th>\n",
       "      <td>Zyrexindo Mandiri Buana</td>\n",
       "      <td>https://pekanbaru.tribunnews.com/2012/03/18/zy...</td>\n",
       "      <td>Zyrex Luncurkan LW5825 dan LW5823</td>\n",
       "      <td>18 Mar 2012</td>\n",
       "    </tr>\n",
       "    <tr>\n",
       "      <th>36683</th>\n",
       "      <td>Zyrexindo Mandiri Buana</td>\n",
       "      <td>https://www.trenasia.com/laptop-for-schools-co...</td>\n",
       "      <td>Laptop for Schools Controversy in Indonesia (S...</td>\n",
       "      <td>3 Agu 2021</td>\n",
       "    </tr>\n",
       "  </tbody>\n",
       "</table>\n",
       "</div>"
      ],
      "text/plain": [
       "               Nama Perusahaan  \\\n",
       "36679  Zyrexindo Mandiri Buana   \n",
       "36680  Zyrexindo Mandiri Buana   \n",
       "36681  Zyrexindo Mandiri Buana   \n",
       "36682  Zyrexindo Mandiri Buana   \n",
       "36683  Zyrexindo Mandiri Buana   \n",
       "\n",
       "                                                    Link  \\\n",
       "36679  https://inet.detik.com/consumer/d-1173020/si-m...   \n",
       "36680  https://www.trenasia.com/laptop-untuk-sekolah-...   \n",
       "36681  https://review1st.com/news/bocoran-harga-lapto...   \n",
       "36682  https://pekanbaru.tribunnews.com/2012/03/18/zy...   \n",
       "36683  https://www.trenasia.com/laptop-for-schools-co...   \n",
       "\n",
       "                                                   Title         Date  \n",
       "36679              Si Mungil yang Tak Hanya untuk Pemula  28 Jul 2009  \n",
       "36680  Kontroversi Laptop untuk Sekolah (Serial 1): S...   3 Agu 2021  \n",
       "36681  Bocoran Harga Laptop Merah Putih: Dibanderol R...  24 Jul 2021  \n",
       "36682                  Zyrex Luncurkan LW5825 dan LW5823  18 Mar 2012  \n",
       "36683  Laptop for Schools Controversy in Indonesia (S...   3 Agu 2021  "
      ]
     },
     "execution_count": 75,
     "metadata": {},
     "output_type": "execute_result"
    }
   ],
   "source": [
    "df_result = pd.read_excel('Scrape Company News_3.xlsx')\n",
    "df_result.tail()"
   ]
  },
  {
   "cell_type": "code",
   "execution_count": 76,
   "metadata": {},
   "outputs": [
    {
     "name": "stdout",
     "output_type": "stream",
     "text": [
      "updated!\n"
     ]
    }
   ],
   "source": [
    "df_result_fix = pd.concat([df_result, df_scraping_temp])\n",
    "df_result_fix.to_excel('Scrape Company News_3.xlsx', index=False)\n",
    "print('updated!')"
   ]
  },
  {
   "cell_type": "code",
   "execution_count": 4,
   "metadata": {},
   "outputs": [
    {
     "name": "stdout",
     "output_type": "stream",
     "text": [
      "902\n"
     ]
    }
   ],
   "source": [
    "d1 = pd.read_excel(\"Scrape Company News_ALL.xlsx\", sheet_name='Sheet1')\n",
    "d2 = pd.read_excel(\"Scrape Company News_2.xlsx\")\n",
    "d3 = pd.read_excel(\"Scrape Company News_3.xlsx\")\n",
    "\n",
    "print(len(d1['Nama Perusahaan'].unique()) + len(d2['Nama Perusahaan'].unique()) + len(d3['Nama Perusahaan'].unique()))"
   ]
  },
  {
   "cell_type": "code",
   "execution_count": 6,
   "metadata": {},
   "outputs": [
    {
     "data": {
      "text/plain": [
       "(144545, 4)"
      ]
     },
     "execution_count": 6,
     "metadata": {},
     "output_type": "execute_result"
    }
   ],
   "source": [
    "all_company = pd.concat([d1, d2, d3])\n",
    "all_company.shape"
   ]
  },
  {
   "cell_type": "code",
   "execution_count": 24,
   "metadata": {},
   "outputs": [
    {
     "name": "stderr",
     "output_type": "stream",
     "text": [
      "100%|██████████| 37001/37001 [02:03<00:00, 300.49it/s]\n"
     ]
    }
   ],
   "source": [
    "for i in tqdm.tqdm(d3.Date):\n",
    "    if 'lalu' in i:\n",
    "        d3.Date.loc[d3.Date == i] = '2024'\n",
    "    else :\n",
    "        d3.Date.loc[d3.Date == i] = i.split(' ')[-1]"
   ]
  },
  {
   "cell_type": "code",
   "execution_count": 25,
   "metadata": {},
   "outputs": [
    {
     "name": "stdout",
     "output_type": "stream",
     "text": [
      "Saved!\n"
     ]
    }
   ],
   "source": [
    "d3.to_excel('Scrape Company News_Date Simplified_3.xlsx', index=False)\n",
    "print('Saved!')"
   ]
  },
  {
   "cell_type": "code",
   "execution_count": 80,
   "metadata": {},
   "outputs": [
    {
     "name": "stdout",
     "output_type": "stream",
     "text": [
      "Saved!\n"
     ]
    }
   ],
   "source": [
    "all_company.to_csv('Scrape Company News_ALL.csv', index=False)\n",
    "print('Saved!')"
   ]
  },
  {
   "cell_type": "code",
   "execution_count": 72,
   "metadata": {},
   "outputs": [
    {
     "data": {
      "text/plain": [
       "{'Industri dan Perdagangan Bintr',\n",
       " 'Malacca Trust Wuwungan Insuran',\n",
       " 'Pelayaran Nasional Ekalya Purn'}"
      ]
     },
     "execution_count": 72,
     "metadata": {},
     "output_type": "execute_result"
    }
   ],
   "source": [
    "# Check for missing data\n",
    "perusahaan = list(d1['Nama Perusahaan'].unique()) + list(d2['Nama Perusahaan'].unique()) + list(d3['Nama Perusahaan'].unique())\n",
    "set(news_sources['Nama Perusahaan']) - set(perusahaan)"
   ]
  },
  {
   "cell_type": "markdown",
   "metadata": {},
   "source": [
    "# Processing"
   ]
  },
  {
   "cell_type": "code",
   "execution_count": 27,
   "metadata": {},
   "outputs": [
    {
     "data": {
      "text/html": [
       "<div>\n",
       "<style scoped>\n",
       "    .dataframe tbody tr th:only-of-type {\n",
       "        vertical-align: middle;\n",
       "    }\n",
       "\n",
       "    .dataframe tbody tr th {\n",
       "        vertical-align: top;\n",
       "    }\n",
       "\n",
       "    .dataframe thead th {\n",
       "        text-align: right;\n",
       "    }\n",
       "</style>\n",
       "<table border=\"1\" class=\"dataframe\">\n",
       "  <thead>\n",
       "    <tr style=\"text-align: right;\">\n",
       "      <th></th>\n",
       "      <th>Nama Perusahaan</th>\n",
       "      <th>Link</th>\n",
       "      <th>Title</th>\n",
       "      <th>Date</th>\n",
       "    </tr>\n",
       "  </thead>\n",
       "  <tbody>\n",
       "    <tr>\n",
       "      <th>0</th>\n",
       "      <td>Astra Agro Lestari</td>\n",
       "      <td>https://catatanriau.com/news/detail/20346/sida...</td>\n",
       "      <td>Sidang Pemeriksaan Setempat, Perkara Masyaraka...</td>\n",
       "      <td>2024</td>\n",
       "    </tr>\n",
       "    <tr>\n",
       "      <th>1</th>\n",
       "      <td>Astra Agro Lestari</td>\n",
       "      <td>https://ajaib.co.id/harga-saham-aali-layak-ata...</td>\n",
       "      <td>Bedah Saham AALI, Layak atau Tidak untuk Dikol...</td>\n",
       "      <td>2024</td>\n",
       "    </tr>\n",
       "    <tr>\n",
       "      <th>2</th>\n",
       "      <td>Astra Agro Lestari</td>\n",
       "      <td>https://insight.kontan.co.id/news/astra-agro-l...</td>\n",
       "      <td>Astra Agro Lestari (AALI) Fokus Pertahankan Pr...</td>\n",
       "      <td>2024</td>\n",
       "    </tr>\n",
       "    <tr>\n",
       "      <th>3</th>\n",
       "      <td>Astra Agro Lestari</td>\n",
       "      <td>https://www.infosawit.com/2024/07/11/pt-astra-...</td>\n",
       "      <td>PT Astra Agro Lestari Tbk., Resmi Bergabung ke...</td>\n",
       "      <td>2024</td>\n",
       "    </tr>\n",
       "    <tr>\n",
       "      <th>4</th>\n",
       "      <td>Astra Agro Lestari</td>\n",
       "      <td>https://finance.detik.com/industri/d-7434671/a...</td>\n",
       "      <td>Astra Agro Lestari Resmi Daftar Jadi Anggota RSPO</td>\n",
       "      <td>2024</td>\n",
       "    </tr>\n",
       "  </tbody>\n",
       "</table>\n",
       "</div>"
      ],
      "text/plain": [
       "      Nama Perusahaan                                               Link  \\\n",
       "0  Astra Agro Lestari  https://catatanriau.com/news/detail/20346/sida...   \n",
       "1  Astra Agro Lestari  https://ajaib.co.id/harga-saham-aali-layak-ata...   \n",
       "2  Astra Agro Lestari  https://insight.kontan.co.id/news/astra-agro-l...   \n",
       "3  Astra Agro Lestari  https://www.infosawit.com/2024/07/11/pt-astra-...   \n",
       "4  Astra Agro Lestari  https://finance.detik.com/industri/d-7434671/a...   \n",
       "\n",
       "                                               Title  Date  \n",
       "0  Sidang Pemeriksaan Setempat, Perkara Masyaraka...  2024  \n",
       "1  Bedah Saham AALI, Layak atau Tidak untuk Dikol...  2024  \n",
       "2  Astra Agro Lestari (AALI) Fokus Pertahankan Pr...  2024  \n",
       "3  PT Astra Agro Lestari Tbk., Resmi Bergabung ke...  2024  \n",
       "4  Astra Agro Lestari Resmi Daftar Jadi Anggota RSPO  2024  "
      ]
     },
     "execution_count": 27,
     "metadata": {},
     "output_type": "execute_result"
    }
   ],
   "source": [
    "df_company1 = pd.read_excel('Scrape Company News_Date Simplified_ALL.xlsx', sheet_name='Sheet1')\n",
    "df_company2 = pd.read_excel('Scrape Company News_Date Simplified_ALL.xlsx', sheet_name='Sheet2')\n",
    "df_company3 = pd.read_excel('Scrape Company News_Date Simplified_ALL.xlsx', sheet_name='Sheet3')\n",
    "\n",
    "df_company_all = pd.concat([df_company1, df_company2, df_company3])\n",
    "df_company_all.head()"
   ]
  },
  {
   "cell_type": "code",
   "execution_count": 33,
   "metadata": {},
   "outputs": [
    {
     "data": {
      "text/plain": [
       "Date\n",
       "2023    39285\n",
       "2024    35988\n",
       "2022    21818\n",
       "2021    13194\n",
       "2020     7271\n",
       "2019     6369\n",
       "2018     4435\n",
       "2017     2443\n",
       "2016     1287\n",
       "Name: count, dtype: int64"
      ]
     },
     "execution_count": 33,
     "metadata": {},
     "output_type": "execute_result"
    }
   ],
   "source": [
    "df_company_all_filter = df_company_all.drop(df_company_all[df_company_all.Date < 2016].index)\n",
    "df_company_all_filter.Date.value_counts()"
   ]
  },
  {
   "cell_type": "code",
   "execution_count": 57,
   "metadata": {},
   "outputs": [
    {
     "data": {
      "text/html": [
       "<div>\n",
       "<style scoped>\n",
       "    .dataframe tbody tr th:only-of-type {\n",
       "        vertical-align: middle;\n",
       "    }\n",
       "\n",
       "    .dataframe tbody tr th {\n",
       "        vertical-align: top;\n",
       "    }\n",
       "\n",
       "    .dataframe thead th {\n",
       "        text-align: right;\n",
       "    }\n",
       "</style>\n",
       "<table border=\"1\" class=\"dataframe\">\n",
       "  <thead>\n",
       "    <tr style=\"text-align: right;\">\n",
       "      <th>Date</th>\n",
       "      <th>Nama Perusahaan</th>\n",
       "      <th>2016</th>\n",
       "      <th>2017</th>\n",
       "      <th>2018</th>\n",
       "      <th>2019</th>\n",
       "      <th>2020</th>\n",
       "      <th>2021</th>\n",
       "      <th>2022</th>\n",
       "      <th>2023</th>\n",
       "      <th>2024</th>\n",
       "    </tr>\n",
       "  </thead>\n",
       "  <tbody>\n",
       "    <tr>\n",
       "      <th>0</th>\n",
       "      <td>ABM Investama</td>\n",
       "      <td>0</td>\n",
       "      <td>0</td>\n",
       "      <td>0</td>\n",
       "      <td>0</td>\n",
       "      <td>0</td>\n",
       "      <td>3</td>\n",
       "      <td>24</td>\n",
       "      <td>101</td>\n",
       "      <td>172</td>\n",
       "    </tr>\n",
       "    <tr>\n",
       "      <th>1</th>\n",
       "      <td>AKR Corporindo</td>\n",
       "      <td>0</td>\n",
       "      <td>0</td>\n",
       "      <td>0</td>\n",
       "      <td>2</td>\n",
       "      <td>0</td>\n",
       "      <td>19</td>\n",
       "      <td>28</td>\n",
       "      <td>115</td>\n",
       "      <td>103</td>\n",
       "    </tr>\n",
       "    <tr>\n",
       "      <th>2</th>\n",
       "      <td>Ace Hardware Indonesia</td>\n",
       "      <td>0</td>\n",
       "      <td>0</td>\n",
       "      <td>3</td>\n",
       "      <td>8</td>\n",
       "      <td>15</td>\n",
       "      <td>29</td>\n",
       "      <td>44</td>\n",
       "      <td>94</td>\n",
       "      <td>98</td>\n",
       "    </tr>\n",
       "    <tr>\n",
       "      <th>3</th>\n",
       "      <td>Ace Oldfields</td>\n",
       "      <td>0</td>\n",
       "      <td>0</td>\n",
       "      <td>0</td>\n",
       "      <td>0</td>\n",
       "      <td>0</td>\n",
       "      <td>18</td>\n",
       "      <td>7</td>\n",
       "      <td>11</td>\n",
       "      <td>7</td>\n",
       "    </tr>\n",
       "    <tr>\n",
       "      <th>4</th>\n",
       "      <td>Acset Indonusa</td>\n",
       "      <td>9</td>\n",
       "      <td>10</td>\n",
       "      <td>14</td>\n",
       "      <td>13</td>\n",
       "      <td>33</td>\n",
       "      <td>31</td>\n",
       "      <td>29</td>\n",
       "      <td>74</td>\n",
       "      <td>20</td>\n",
       "    </tr>\n",
       "    <tr>\n",
       "      <th>...</th>\n",
       "      <td>...</td>\n",
       "      <td>...</td>\n",
       "      <td>...</td>\n",
       "      <td>...</td>\n",
       "      <td>...</td>\n",
       "      <td>...</td>\n",
       "      <td>...</td>\n",
       "      <td>...</td>\n",
       "      <td>...</td>\n",
       "      <td>...</td>\n",
       "    </tr>\n",
       "    <tr>\n",
       "      <th>897</th>\n",
       "      <td>XL Axiata</td>\n",
       "      <td>0</td>\n",
       "      <td>0</td>\n",
       "      <td>0</td>\n",
       "      <td>0</td>\n",
       "      <td>0</td>\n",
       "      <td>0</td>\n",
       "      <td>0</td>\n",
       "      <td>1</td>\n",
       "      <td>299</td>\n",
       "    </tr>\n",
       "    <tr>\n",
       "      <th>898</th>\n",
       "      <td>Yanaprima Hastapersada</td>\n",
       "      <td>0</td>\n",
       "      <td>2</td>\n",
       "      <td>3</td>\n",
       "      <td>2</td>\n",
       "      <td>6</td>\n",
       "      <td>8</td>\n",
       "      <td>6</td>\n",
       "      <td>4</td>\n",
       "      <td>0</td>\n",
       "    </tr>\n",
       "    <tr>\n",
       "      <th>899</th>\n",
       "      <td>Yelooo Integra Datanet</td>\n",
       "      <td>0</td>\n",
       "      <td>0</td>\n",
       "      <td>11</td>\n",
       "      <td>7</td>\n",
       "      <td>1</td>\n",
       "      <td>29</td>\n",
       "      <td>43</td>\n",
       "      <td>12</td>\n",
       "      <td>5</td>\n",
       "    </tr>\n",
       "    <tr>\n",
       "      <th>900</th>\n",
       "      <td>Yulie Sekuritas Indonesia</td>\n",
       "      <td>0</td>\n",
       "      <td>2</td>\n",
       "      <td>10</td>\n",
       "      <td>5</td>\n",
       "      <td>2</td>\n",
       "      <td>0</td>\n",
       "      <td>5</td>\n",
       "      <td>3</td>\n",
       "      <td>2</td>\n",
       "    </tr>\n",
       "    <tr>\n",
       "      <th>901</th>\n",
       "      <td>Zyrexindo Mandiri Buana</td>\n",
       "      <td>0</td>\n",
       "      <td>0</td>\n",
       "      <td>4</td>\n",
       "      <td>1</td>\n",
       "      <td>0</td>\n",
       "      <td>89</td>\n",
       "      <td>34</td>\n",
       "      <td>30</td>\n",
       "      <td>39</td>\n",
       "    </tr>\n",
       "  </tbody>\n",
       "</table>\n",
       "<p>902 rows × 10 columns</p>\n",
       "</div>"
      ],
      "text/plain": [
       "Date            Nama Perusahaan  2016  2017  2018  2019  2020  2021  2022  \\\n",
       "0                 ABM Investama     0     0     0     0     0     3    24   \n",
       "1                AKR Corporindo     0     0     0     2     0    19    28   \n",
       "2        Ace Hardware Indonesia     0     0     3     8    15    29    44   \n",
       "3                 Ace Oldfields     0     0     0     0     0    18     7   \n",
       "4                Acset Indonusa     9    10    14    13    33    31    29   \n",
       "..                          ...   ...   ...   ...   ...   ...   ...   ...   \n",
       "897                   XL Axiata     0     0     0     0     0     0     0   \n",
       "898      Yanaprima Hastapersada     0     2     3     2     6     8     6   \n",
       "899      Yelooo Integra Datanet     0     0    11     7     1    29    43   \n",
       "900   Yulie Sekuritas Indonesia     0     2    10     5     2     0     5   \n",
       "901     Zyrexindo Mandiri Buana     0     0     4     1     0    89    34   \n",
       "\n",
       "Date  2023  2024  \n",
       "0      101   172  \n",
       "1      115   103  \n",
       "2       94    98  \n",
       "3       11     7  \n",
       "4       74    20  \n",
       "..     ...   ...  \n",
       "897      1   299  \n",
       "898      4     0  \n",
       "899     12     5  \n",
       "900      3     2  \n",
       "901     30    39  \n",
       "\n",
       "[902 rows x 10 columns]"
      ]
     },
     "execution_count": 57,
     "metadata": {},
     "output_type": "execute_result"
    }
   ],
   "source": [
    "df_company_all_filter_pivot = df_company_all_filter[['Nama Perusahaan', 'Date']].pivot_table(columns='Date',\n",
    "                                                                                            index=['Nama Perusahaan'], \n",
    "                                                                                            aggfunc= 'size', \n",
    "                                                                                            fill_value=0).reset_index()\n",
    "df_company_all_filter_pivot"
   ]
  },
  {
   "cell_type": "code",
   "execution_count": 61,
   "metadata": {},
   "outputs": [
    {
     "name": "stdout",
     "output_type": "stream",
     "text": [
      "Saved\n"
     ]
    }
   ],
   "source": [
    "df_company_all_filter_pivot.to_excel('Scrape Company News_Pivoted_ALL.xlsx', index=False)\n",
    "print('Saved')"
   ]
  },
  {
   "cell_type": "markdown",
   "metadata": {},
   "source": [
    "# Locate Elements"
   ]
  },
  {
   "cell_type": "code",
   "execution_count": 30,
   "metadata": {},
   "outputs": [
    {
     "name": "stdout",
     "output_type": "stream",
     "text": [
      "10\n"
     ]
    }
   ],
   "source": [
    "# Link \n",
    "link = driver.find_elements(By.CSS_SELECTOR, 'a[class = \"WlydOe\"]')\n",
    "print(len([elem.get_attribute('href') for elem in link]))"
   ]
  },
  {
   "cell_type": "code",
   "execution_count": 19,
   "metadata": {},
   "outputs": [],
   "source": [
    "# Title \n",
    "t = driver.find_elements(By.CSS_SELECTOR, 'div[class = \"d6cvqb BBwThe\"]')\n",
    "for i in t:\n",
    "    print(i.text)"
   ]
  },
  {
   "cell_type": "code",
   "execution_count": 17,
   "metadata": {},
   "outputs": [],
   "source": [
    "# Next Page\n",
    "t_click = driver.find_element(By.ID, 'pnnext')\n",
    "t_click.click()"
   ]
  },
  {
   "cell_type": "code",
   "execution_count": 35,
   "metadata": {},
   "outputs": [
    {
     "name": "stdout",
     "output_type": "stream",
     "text": [
      "['21 Mei 2024', '3 Apr 2024', '3 Mar 2024', '2 Mei 2024', '21 Mei 2024', '6 Mei 2024', '18 Apr 2024', '6 Apr 2024', '12 Apr 2024', '28 Apr 2024']\n"
     ]
    }
   ],
   "source": [
    "# Date\n",
    "date = driver.find_elements(By.CSS_SELECTOR, 'div[class = \"OSrXXb rbYSKb LfVVr\"]')\n",
    "print([elem.text for elem in date])"
   ]
  },
  {
   "cell_type": "code",
   "execution_count": 14,
   "metadata": {},
   "outputs": [
    {
     "name": "stdout",
     "output_type": "stream",
     "text": [
      "Jelang FIFA Matchday Indonesia vs Turkmenistan: Indosat Gelar Meet and Greet dengan Egy Maulana CS\n",
      "TRIBUN-BALI.COM, SURABAYA - Para pemain Timnas Indonesia menggelar meet and greet bersama komunitas, media, dan karyawan Indosat di Ruang Carribean, Hotel Vasa Surabaya, pada Selasa 5 September 2023. \n",
      "Meet and greet diselenggarakan Indosat untuk menjawab antusiasme penggemar sepak bola tanah air sebelum Timnas Indonesia berlaga dalam FIFA Match Day menghadapi Turkmenistan di Gelora Bung Tomo, Surabaya pada Jumat 8 September 2023 mendatang.\n",
      "Sejumlah pemain Timnas yang hadir seperti Dendy Sulistyawan, Egy Maulana Vikri, Fachruddin Aryanto, dan Reza Arya Pratama.\n",
      "Mereka berbagi cerita mengenai persiapan jelang laga Jumat nanti kepada belasan peserta serta diiringi dengan sesi tanya jawab, dan games.\n",
      " Baca juga: PREDIKSI Line Up Timnas Indonesia di Kualifikasi Piala Asia U23, Rafael Struick, Ivar Jenner Starter\n",
      "Pemain Dewa United Egy Maulana Vikri yang kini dipanggil memperkuat Timnas ini pun membeberkan kesiapannya untuk menaklukkan Turkmenistan. \n",
      "“Sejauh ini persiapan tim sudah sangat matang. Kami para pemain sudah mencoba berbagai taktik sekaligus mengasah kemampuan teknik untuk menghadapi serangan musuh,\" kata Egy. \n",
      "Egy juga membeberkan bahwa dirinya dan rekan se-tim mulai mempelajari kekuatan dan kelemahan lawan untuk bisa mencuri angka. \n",
      "\"Kami juga diminta untuk mempelajari titik-titik kelemahan lawan dari menonton video permainan mereka (Turkmenistan) yang nantinya dievaluasi bersama sesuai dengan posisi pemain di lapangan,” jelas Egy.\n",
      "Sementara itu, SVP-Head of Region East Java & Bali Nusra Indosat Ooredoo Hutchison, Soejanto Prasetya menyampaikan, bahwa bertindak sebagai salah satu sponsor resmi PSSI, merupakan wujud kepedulian terhadap kemajuan sepak bola nasional.\n",
      "\"Kami siap memberikan dukungan bagi kemajuan Timnas Indonesia, termasuk salah satunya menunjang berbagai macam aktivitas dan akses digital bagi pemain dan official, baik di dalam maupun luar lapangan,\" ujar Soejanto. \n",
      " Baca juga: Terungkap Alasan Shayne Pattynama Gagal Bela Timnas Indonesia di FIFA Matchday vs Turkmenistan\n",
      "District Operation Head East Java, Jember, & Bali Nusra Indosat Ooredoo Hutchison, Vega Sumampouw, menambahkan, bahwa meet and greet ini untuk mengobati kerinduan fans sepak bola tanah air terhadap para pemain yang membela panji Indonesia di lapangan hijau.\n",
      "\"Kami selalu siap mendukung Timnas Indonesia untuk terus mengharumkan nama bangsa,\" tuturnya. \n",
      "Indosat sebagai perusahaan digital telekomunikasi yang paling dipilih di Indonesia berkomitmen dalam memajukan olah raga paling populer di negeri ini juga diwujudkan melalui hadirnya berbagai produk unggulan guna memberikan pengalaman yang mengesankan pelanggan. \n",
      "\n",
      "\n",
      "Bali United Gagal Raih Poin Penuh di Kandang, Persik Kediri Tunjukkan Mental Luar Biasa\n",
      "Timnas Argentina akan Rotasi Pemain, Alejandro Garnacho Gantikan Lionel Messi di FIFA Matchday\n",
      "Remehkan Timnas Indonesia, Media Inggris Prediksi Argentina Bakal Menang Telak 4-0\n",
      "🔴LIVE: Pre Match Conference Jelang Pertandingan FIFA Matchday Indonesia vs Argentina\n",
      "\n",
      "\n",
      "\n",
      "\n",
      "\n",
      "\n",
      "\n",
      "\n",
      "\n",
      "\n",
      "\n",
      "\n"
     ]
    }
   ],
   "source": [
    "p = driver.find_elements(By.TAG_NAME, 'p')\n",
    "for i in p:\n",
    "    print(i.text)"
   ]
  }
 ],
 "metadata": {
  "kernelspec": {
   "display_name": "scrap",
   "language": "python",
   "name": "python3"
  },
  "language_info": {
   "codemirror_mode": {
    "name": "ipython",
    "version": 3
   },
   "file_extension": ".py",
   "mimetype": "text/x-python",
   "name": "python",
   "nbconvert_exporter": "python",
   "pygments_lexer": "ipython3",
   "version": "3.10.14"
  },
  "orig_nbformat": 4
 },
 "nbformat": 4,
 "nbformat_minor": 2
}
