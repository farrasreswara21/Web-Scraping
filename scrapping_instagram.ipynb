{
 "cells": [
  {
   "cell_type": "code",
   "execution_count": 1,
   "metadata": {},
   "outputs": [],
   "source": [
    "import pandas as pd\n",
    "\n",
    "import time\n",
    "from selenium.webdriver.chrome.service import Service\n",
    "from selenium.webdriver.common.by import By\n",
    "from selenium.webdriver.common.keys import Keys\n",
    "from selenium.common.exceptions import NoSuchElementException \n",
    "from selenium import webdriver\n"
   ]
  },
  {
   "cell_type": "code",
   "execution_count": 2,
   "metadata": {},
   "outputs": [],
   "source": [
    "#Inisiasi \n",
    "s=Service('C:/SAINS DATA/chromedriver.exe')\n",
    "options = webdriver.ChromeOptions()\n",
    "options.add_experimental_option(\"detach\", True)\n",
    "options.add_argument('disable_infobars')\n",
    "# options.headless = True\n",
    "\n",
    "driver = webdriver.Chrome(service=s, options=options)\n",
    "url=\"https://www.instagram.com/\"\n",
    "driver.get(url)"
   ]
  },
  {
   "cell_type": "markdown",
   "metadata": {},
   "source": [
    "# Login"
   ]
  },
  {
   "cell_type": "code",
   "execution_count": null,
   "metadata": {},
   "outputs": [],
   "source": [
    "# More Comments\n",
    "plus_parent = driver.find_element(By.CSS_SELECTOR, 'div[class = \"_ab8w  _ab94 _ab99 _ab9h _ab9m _ab9p  _abam  _abcj _abcm\"]')\n",
    "plus = plus_parent.find_element(By.CSS_SELECTOR, 'button[class = \"_abl-\"]')\n",
    "plus.click()"
   ]
  },
  {
   "cell_type": "code",
   "execution_count": 3,
   "metadata": {},
   "outputs": [],
   "source": [
    "# submit credential\n",
    "username = driver.find_element(By.CSS_SELECTOR, 'input[name = \"username\"]')\n",
    "username.clear()\n",
    "username.send_keys('shafiyyaae')\n",
    "\n",
    "password = driver.find_element(By.CSS_SELECTOR, 'input[name = \"password\"]')\n",
    "password.clear()\n",
    "password.send_keys('XiaoLuhan123')\n",
    "\n",
    "masuk = driver.find_element(By.CSS_SELECTOR, 'button[type = \"submit\"]')\n",
    "masuk.click()"
   ]
  }
 ],
 "metadata": {
  "kernelspec": {
   "display_name": "Python 3.8.13 ('scrap')",
   "language": "python",
   "name": "python3"
  },
  "language_info": {
   "codemirror_mode": {
    "name": "ipython",
    "version": 3
   },
   "file_extension": ".py",
   "mimetype": "text/x-python",
   "name": "python",
   "nbconvert_exporter": "python",
   "pygments_lexer": "ipython3",
   "version": "3.8.13"
  },
  "orig_nbformat": 4,
  "vscode": {
   "interpreter": {
    "hash": "faba58285d1274e92bfe9312e8e316857fb7b69661d7ea0ff2588c6ec1835f06"
   }
  }
 },
 "nbformat": 4,
 "nbformat_minor": 2
}
