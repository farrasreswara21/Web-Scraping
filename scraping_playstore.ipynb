{
 "cells": [
  {
   "cell_type": "code",
   "execution_count": 50,
   "metadata": {},
   "outputs": [],
   "source": [
    "import selenium\n",
    "import time\n",
    "from selenium.webdriver.chrome.service import Service\n",
    "from selenium.webdriver.common.by import By\n",
    "from selenium.webdriver.common.keys import Keys\n",
    "from selenium.common.exceptions import NoSuchElementException\n",
    "from selenium.common.exceptions import StaleElementReferenceException \n",
    "from selenium import webdriver\n",
    "from selenium.webdriver.support.wait import WebDriverWait\n",
    "from selenium.webdriver.support import expected_conditions as EC\n",
    "\n",
    "import undetected_chromedriver.v2 as uc"
   ]
  },
  {
   "cell_type": "code",
   "execution_count": 8,
   "metadata": {},
   "outputs": [],
   "source": [
    "s=Service('C:/SAINS DATA/chromedriver.exe')\n",
    "options = uc.ChromeOptions()\n",
    "options.add_argument('proxy-server=106.122.8.54:3128')\n",
    "# options.add_experimental_option(\"detach\", True)\n",
    "# options.headless = True\n",
    "\n",
    "driver = uc.Chrome(service=s, options=options)\n",
    "url=\"https://play.google.com/store/apps/details?id=in.startv.hotstar.dplus\"\n",
    "\n",
    "driver.get(url)\n",
    "driver.maximize_window()"
   ]
  },
  {
   "cell_type": "code",
   "execution_count": 16,
   "metadata": {},
   "outputs": [],
   "source": [
    "all_reviews = driver.find_element(By.CSS_SELECTOR, 'span[class = \"VfPpkd-vQzf8d\"]')\n",
    "# all_reviews.click()\n",
    "driver.execute_script(\"arguments[0].click();\", all_reviews)\n"
   ]
  },
  {
   "cell_type": "code",
   "execution_count": 11,
   "metadata": {},
   "outputs": [],
   "source": [
    "sign_in = driver.find_element(By.CSS_SELECTOR, 'button[class = \"LkLjZd ScJHi  nMZKrb mgVrBf xjAeve\"]')\n",
    "driver.execute_script(\"arguments[0].click();\", sign_in)"
   ]
  },
  {
   "cell_type": "code",
   "execution_count": 12,
   "metadata": {},
   "outputs": [],
   "source": [
    "email = driver.find_element(By.ID, 'identifierId')\n",
    "email.send_keys('muhammad.farras.reswara-2020@ftmm.unair.ac.id')\n",
    "\n",
    "next = driver.find_element(By.CSS_SELECTOR, 'button[class = \"VfPpkd-LgbsSe VfPpkd-LgbsSe-OWXEXe-k8QpJ VfPpkd-LgbsSe-OWXEXe-dgl2Hf nCP5yc AjY5Oe DuMIQc LQeN7 qIypjc TrZEUc lw1w4b\"]')\n",
    "driver.execute_script(\"arguments[0].click();\", next)"
   ]
  },
  {
   "cell_type": "code",
   "execution_count": 13,
   "metadata": {},
   "outputs": [],
   "source": [
    "cyber_user = driver.find_element(By.NAME, 'username')\n",
    "cyber_user.send_keys('162012133055')\n",
    "\n",
    "cyber_pass = driver.find_element(By.NAME, 'passwd')\n",
    "cyber_pass.send_keys('farras210102')\n",
    "\n",
    "cyber_signin = driver.find_element(By.NAME, 'signIn')\n",
    "cyber_signin.click()"
   ]
  },
  {
   "cell_type": "code",
   "execution_count": 14,
   "metadata": {},
   "outputs": [],
   "source": [
    "cont = driver.find_element(By.CSS_SELECTOR, 'span[class = \"VfPpkd-vQzf8d\"]')\n",
    "cont.click()"
   ]
  },
  {
   "cell_type": "code",
   "execution_count": null,
   "metadata": {},
   "outputs": [],
   "source": [
    "# password = driver.find_element(By.NAME, 'password')\n",
    "# password.send_keys('Shafro21')\n",
    "\n",
    "# next = driver.find_element(By.CSS_SELECTOR, 'button[class = \"VfPpkd-LgbsSe VfPpkd-LgbsSe-OWXEXe-k8QpJ VfPpkd-LgbsSe-OWXEXe-dgl2Hf nCP5yc AjY5Oe DuMIQc LQeN7 qIypjc TrZEUc lw1w4b\"]')\n",
    "# driver.execute_script(\"arguments[0].click();\", next)"
   ]
  },
  {
   "cell_type": "code",
   "execution_count": 48,
   "metadata": {},
   "outputs": [
    {
     "name": "stdout",
     "output_type": "stream",
     "text": [
      "Lihat semua ulasan\n"
     ]
    }
   ],
   "source": [
    "all_rev = driver.find_element(By.CSS_SELECTOR, 'button[class = \"VfPpkd-LgbsSe VfPpkd-LgbsSe-OWXEXe-dgl2Hf ksBjEc lKxP2d qfvgSe aLey0c\"]')\n",
    "driver.execute_script(\"arguments[0].click();\", all_rev)\n",
    "print(all_rev.text)"
   ]
  },
  {
   "cell_type": "code",
   "execution_count": 49,
   "metadata": {},
   "outputs": [],
   "source": [
    "action = webdriver.ActionChains(driver)\n",
    "\n",
    "SCROLL_PAUSE_TIME = 3\n",
    "\n",
    "# Get scroll height\n",
    "last_height = driver.execute_script(\"return document.documentElement.scrollHeight\")\n",
    "\n",
    "while True:\n",
    "    element = driver.find_element(By.ID, '1') # or your another selector here\n",
    "    action.move_to_element(element).perform()\n",
    "    \n",
    "    # Scroll down to bottom\n",
    "    driver.execute_script(\"window.scrollTo(0, document.documentElement.scrollHeight);\")\n",
    "\n",
    "    # Wait to load page\n",
    "    time.sleep(SCROLL_PAUSE_TIME)\n",
    "\n",
    "    # Calculate new scroll height and compare with last scroll height\n",
    "    new_height = driver.execute_script(\"return document.documentElement.scrollHeight\")\n",
    "    if new_height == last_height:\n",
    "        break\n",
    "    last_height = new_height"
   ]
  },
  {
   "cell_type": "code",
   "execution_count": 54,
   "metadata": {},
   "outputs": [
    {
     "ename": "KeyboardInterrupt",
     "evalue": "",
     "output_type": "error",
     "traceback": [
      "\u001b[1;31m---------------------------------------------------------------------------\u001b[0m",
      "\u001b[1;31mKeyboardInterrupt\u001b[0m                         Traceback (most recent call last)",
      "\u001b[1;32mc:\\SAINS DATA\\Python Project\\Web Scrapping\\scraping_playstore.ipynb Cell 11\u001b[0m in \u001b[0;36m<cell line: 7>\u001b[1;34m()\u001b[0m\n\u001b[0;32m      <a href='vscode-notebook-cell:/c%3A/SAINS%20DATA/Python%20Project/Web%20Scrapping/scraping_playstore.ipynb#ch0000012?line=5'>6</a>\u001b[0m \u001b[39mwhile\u001b[39;00m \u001b[39mTrue\u001b[39;00m:\n\u001b[0;32m      <a href='vscode-notebook-cell:/c%3A/SAINS%20DATA/Python%20Project/Web%20Scrapping/scraping_playstore.ipynb#ch0000012?line=6'>7</a>\u001b[0m     driver\u001b[39m.\u001b[39mexecute_script(\n\u001b[0;32m      <a href='vscode-notebook-cell:/c%3A/SAINS%20DATA/Python%20Project/Web%20Scrapping/scraping_playstore.ipynb#ch0000012?line=7'>8</a>\u001b[0m         \u001b[39m'\u001b[39m\u001b[39marguments[0].scrollTop = arguments[0].scrollTop + arguments[0].offsetHeight;\u001b[39m\u001b[39m'\u001b[39m, \n\u001b[0;32m      <a href='vscode-notebook-cell:/c%3A/SAINS%20DATA/Python%20Project/Web%20Scrapping/scraping_playstore.ipynb#ch0000012?line=8'>9</a>\u001b[0m     pop_up_window)\n\u001b[1;32m---> <a href='vscode-notebook-cell:/c%3A/SAINS%20DATA/Python%20Project/Web%20Scrapping/scraping_playstore.ipynb#ch0000012?line=9'>10</a>\u001b[0m     time\u001b[39m.\u001b[39;49msleep(\u001b[39m1\u001b[39;49m)\n",
      "\u001b[1;31mKeyboardInterrupt\u001b[0m: "
     ]
    }
   ],
   "source": [
    "pop_up_window = WebDriverWait(\n",
    "    driver, 2).until(EC.element_to_be_clickable(\n",
    "        (By.XPATH, \"//*[@id='yDmH0d']/div[4]/div[2]/div/div/div/div/div[2]/div/div[1]/div[3]\")))\n",
    "    \n",
    "# Scroll till Followers list is there\n",
    "while True:\n",
    "    driver.execute_script(\n",
    "        'arguments[0].scrollTop = arguments[0].scrollTop + arguments[0].offsetHeight;', \n",
    "    pop_up_window)\n",
    "    time.sleep(1)"
   ]
  },
  {
   "cell_type": "code",
   "execution_count": 41,
   "metadata": {},
   "outputs": [
    {
     "name": "stdout",
     "output_type": "stream",
     "text": [
      "83\n"
     ]
    }
   ],
   "source": [
    "reviews = driver.find_elements(By.CSS_SELECTOR, 'div[class = \"h3YV2d\"]')\n",
    "# print([i.text for i in reviews])\n",
    "print(len(reviews))"
   ]
  }
 ],
 "metadata": {
  "kernelspec": {
   "display_name": "Python 3.8.13 ('scrap')",
   "language": "python",
   "name": "python3"
  },
  "language_info": {
   "codemirror_mode": {
    "name": "ipython",
    "version": 3
   },
   "file_extension": ".py",
   "mimetype": "text/x-python",
   "name": "python",
   "nbconvert_exporter": "python",
   "pygments_lexer": "ipython3",
   "version": "3.8.13"
  },
  "orig_nbformat": 4,
  "vscode": {
   "interpreter": {
    "hash": "faba58285d1274e92bfe9312e8e316857fb7b69661d7ea0ff2588c6ec1835f06"
   }
  }
 },
 "nbformat": 4,
 "nbformat_minor": 2
}
