{
 "cells": [
  {
   "cell_type": "code",
   "execution_count": 2,
   "metadata": {},
   "outputs": [],
   "source": [
    "import selenium\n",
    "import time\n",
    "from selenium.webdriver.chrome.service import Service\n",
    "from selenium.webdriver.common.by import By\n",
    "from selenium.webdriver.common.keys import Keys\n",
    "from selenium.common.exceptions import NoSuchElementException\n",
    "from selenium.common.exceptions import StaleElementReferenceException \n",
    "from selenium import webdriver"
   ]
  },
  {
   "cell_type": "code",
   "execution_count": 17,
   "metadata": {},
   "outputs": [],
   "source": [
    "s=Service('C:/SAINS DATA/chromedriver.exe')\n",
    "options = webdriver.ChromeOptions()\n",
    "options.add_experimental_option(\"detach\", True)\n",
    "# options.headless = True\n",
    "\n",
    "driver = webdriver.Chrome(service=s, options=options)\n",
    "url=\"https://play.google.com/store/apps/details?id=in.startv.hotstar.dplus\"\n",
    "\n",
    "driver.get(url)\n",
    "driver.maximize_window()"
   ]
  },
  {
   "cell_type": "code",
   "execution_count": 18,
   "metadata": {},
   "outputs": [],
   "source": [
    "all_reviews = driver.find_element(By.CSS_SELECTOR, 'span[class = \"VfPpkd-vQzf8d\"]')\n",
    "# all_reviews.click()\n",
    "driver.execute_script(\"arguments[0].click();\", all_reviews)\n"
   ]
  },
  {
   "cell_type": "code",
   "execution_count": 19,
   "metadata": {},
   "outputs": [],
   "source": [
    "sign_in = driver.find_element(By.CSS_SELECTOR, 'button[class = \"LkLjZd ScJHi  nMZKrb mgVrBf xjAeve\"]')\n",
    "driver.execute_script(\"arguments[0].click();\", sign_in)"
   ]
  },
  {
   "cell_type": "code",
   "execution_count": 21,
   "metadata": {},
   "outputs": [],
   "source": [
    "email = driver.find_element(By.ID, 'identifierId')\n",
    "email.send_keys('farrasreswara21@gmail.com')\n",
    "\n",
    "next = driver.find_element(By.CSS_SELECTOR, 'button[class = \"VfPpkd-LgbsSe VfPpkd-LgbsSe-OWXEXe-k8QpJ VfPpkd-LgbsSe-OWXEXe-dgl2Hf nCP5yc AjY5Oe DuMIQc LQeN7 qIypjc TrZEUc lw1w4b\"]')\n",
    "driver.execute_script(\"arguments[0].click();\", next)"
   ]
  }
 ],
 "metadata": {
  "kernelspec": {
   "display_name": "Python 3.8.13 ('scrap')",
   "language": "python",
   "name": "python3"
  },
  "language_info": {
   "codemirror_mode": {
    "name": "ipython",
    "version": 3
   },
   "file_extension": ".py",
   "mimetype": "text/x-python",
   "name": "python",
   "nbconvert_exporter": "python",
   "pygments_lexer": "ipython3",
   "version": "3.8.13"
  },
  "orig_nbformat": 4,
  "vscode": {
   "interpreter": {
    "hash": "faba58285d1274e92bfe9312e8e316857fb7b69661d7ea0ff2588c6ec1835f06"
   }
  }
 },
 "nbformat": 4,
 "nbformat_minor": 2
}
