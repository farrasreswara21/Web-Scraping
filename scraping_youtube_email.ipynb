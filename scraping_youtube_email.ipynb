{
 "cells": [
  {
   "cell_type": "code",
   "execution_count": 26,
   "metadata": {},
   "outputs": [],
   "source": [
    "from selenium import webdriver\n",
    "from selenium.webdriver.support.ui import WebDriverWait\n",
    "from selenium.webdriver.common.by import By\n",
    "from selenium.webdriver.support import expected_conditions as EC\n",
    "import undetected_chromedriver as uc\n",
    "\n",
    "import os\n",
    "import speech_recognition as sr\n",
    "from pydub import AudioSegment\n",
    "from enum import Enum\n",
    "import tempfile\n",
    "import requests\n",
    "import time\n"
   ]
  },
  {
   "cell_type": "code",
   "execution_count": 11,
   "metadata": {},
   "outputs": [],
   "source": [
    "if __name__ == '__main__':\n",
    "    email = 'muhammad.farras.reswara-2020@ftmm.unair.ac.id'\n",
    "    password = 'farras210102'\n",
    "    \n",
    "    options = webdriver.ChromeOptions()\n",
    "    options.add_argument('proxy-server=106.122.8.54:3128')\n",
    "    options.add_argument('--user-data-dir=C:\\\\Users\\\\farras\\\\AppData\\\\Local\\\\Google\\\\Chrome\\\\User Data\\\\Default')\n",
    "\n",
    "    driver = uc.Chrome(chrome_options=options)\n",
    "    driver.get('https://www.youtube.com/c/TechWithTim/about')\n"
   ]
  },
  {
   "cell_type": "code",
   "execution_count": 18,
   "metadata": {},
   "outputs": [],
   "source": [
    "options = uc.ChromeOptions()\n",
    "\n",
    "# options.add_argument('proxy-server=106.122.8.54:3128')\n",
    "options.add_argument('--user-data-dir=C:\\\\Users\\\\farras\\\\AppData\\\\Local\\\\Google\\\\Chrome\\\\User Data\\\\Default\\\\Selenium')\n",
    "\n",
    "browser = uc.Chrome(options=options, driver_executable_path='C:/SAINS DATA/chromedriver.exe')\n",
    "\n",
    "browser.get('https://www.youtube.com/c/WorstPremadeEver/about')\n",
    "\n"
   ]
  },
  {
   "cell_type": "code",
   "execution_count": 28,
   "metadata": {},
   "outputs": [],
   "source": [
    "class status(Enum):\n",
    "    SUCCESS = 0\n",
    "    UNKNOWN = 1\n",
    "    RATELIMITED = 2\n",
    "    TIMEOUT = 3\n",
    "\n",
    "class NotExistent(Exception):\n",
    "    \"\"\"\n",
    "    This exception is used internally\n",
    "    \"\"\"\n",
    "    err = None\n",
    "\n",
    "    def __init__(self, error, *args: object) -> None:\n",
    "        super().__init__(*args)\n",
    "\n",
    "        self.err = error\n",
    "\n",
    "def __cleanup(files: list):\n",
    "    for x in files:\n",
    "        if os.path.exists(x):\n",
    "            os.remove(x)\n",
    "\n",
    "ret = None\n",
    "tmp_dir = tempfile.gettempdir()\n",
    "mp3_file = os.path.join(tmp_dir, \"_tmp.mp3\")\n",
    "wav_file = os.path.join(tmp_dir, \"_tmp.wav\")\n",
    "tmp_files = [mp3_file, wav_file]"
   ]
  },
  {
   "cell_type": "code",
   "execution_count": 29,
   "metadata": {},
   "outputs": [
    {
     "ename": "FileNotFoundError",
     "evalue": "[WinError 2] The system cannot find the file specified",
     "output_type": "error",
     "traceback": [
      "\u001b[1;31m---------------------------------------------------------------------------\u001b[0m",
      "\u001b[1;31mFileNotFoundError\u001b[0m                         Traceback (most recent call last)",
      "\u001b[1;32mc:\\SAINS DATA\\Python Project\\Web Scrapping\\scraping_youtube_email.ipynb Cell 5\u001b[0m in \u001b[0;36m<cell line: 35>\u001b[1;34m()\u001b[0m\n\u001b[0;32m     <a href='vscode-notebook-cell:/c%3A/SAINS%20DATA/Python%20Project/Web%20Scrapping/scraping_youtube_email.ipynb#ch0000014?line=59'>60</a>\u001b[0m     f\u001b[39m.\u001b[39mclose()\n\u001b[0;32m     <a href='vscode-notebook-cell:/c%3A/SAINS%20DATA/Python%20Project/Web%20Scrapping/scraping_youtube_email.ipynb#ch0000014?line=61'>62</a>\u001b[0m \u001b[39m# Convert to wav here\u001b[39;00m\n\u001b[1;32m---> <a href='vscode-notebook-cell:/c%3A/SAINS%20DATA/Python%20Project/Web%20Scrapping/scraping_youtube_email.ipynb#ch0000014?line=62'>63</a>\u001b[0m AudioSegment\u001b[39m.\u001b[39;49mfrom_mp3(mp3_file)\u001b[39m.\u001b[39mexport(wav_file, \u001b[39mformat\u001b[39m\u001b[39m=\u001b[39m\u001b[39m\"\u001b[39m\u001b[39mwav\u001b[39m\u001b[39m\"\u001b[39m)\n\u001b[0;32m     <a href='vscode-notebook-cell:/c%3A/SAINS%20DATA/Python%20Project/Web%20Scrapping/scraping_youtube_email.ipynb#ch0000014?line=64'>65</a>\u001b[0m \u001b[39m# Using google's own api against them\u001b[39;00m\n\u001b[0;32m     <a href='vscode-notebook-cell:/c%3A/SAINS%20DATA/Python%20Project/Web%20Scrapping/scraping_youtube_email.ipynb#ch0000014?line=65'>66</a>\u001b[0m recognizer \u001b[39m=\u001b[39m sr\u001b[39m.\u001b[39mRecognizer()\n",
      "File \u001b[1;32mc:\\Users\\farras\\anaconda3\\envs\\scrap\\lib\\site-packages\\pydub\\audio_segment.py:796\u001b[0m, in \u001b[0;36mAudioSegment.from_mp3\u001b[1;34m(cls, file, parameters)\u001b[0m\n\u001b[0;32m    794\u001b[0m \u001b[39m@classmethod\u001b[39m\n\u001b[0;32m    795\u001b[0m \u001b[39mdef\u001b[39;00m \u001b[39mfrom_mp3\u001b[39m(\u001b[39mcls\u001b[39m, file, parameters\u001b[39m=\u001b[39m\u001b[39mNone\u001b[39;00m):\n\u001b[1;32m--> 796\u001b[0m     \u001b[39mreturn\u001b[39;00m \u001b[39mcls\u001b[39;49m\u001b[39m.\u001b[39;49mfrom_file(file, \u001b[39m'\u001b[39;49m\u001b[39mmp3\u001b[39;49m\u001b[39m'\u001b[39;49m, parameters\u001b[39m=\u001b[39;49mparameters)\n",
      "File \u001b[1;32mc:\\Users\\farras\\anaconda3\\envs\\scrap\\lib\\site-packages\\pydub\\audio_segment.py:728\u001b[0m, in \u001b[0;36mAudioSegment.from_file\u001b[1;34m(cls, file, format, codec, parameters, start_second, duration, **kwargs)\u001b[0m\n\u001b[0;32m    726\u001b[0m     info \u001b[39m=\u001b[39m \u001b[39mNone\u001b[39;00m\n\u001b[0;32m    727\u001b[0m \u001b[39melse\u001b[39;00m:\n\u001b[1;32m--> 728\u001b[0m     info \u001b[39m=\u001b[39m mediainfo_json(orig_file, read_ahead_limit\u001b[39m=\u001b[39;49mread_ahead_limit)\n\u001b[0;32m    729\u001b[0m \u001b[39mif\u001b[39;00m info:\n\u001b[0;32m    730\u001b[0m     audio_streams \u001b[39m=\u001b[39m [x \u001b[39mfor\u001b[39;00m x \u001b[39min\u001b[39;00m info[\u001b[39m'\u001b[39m\u001b[39mstreams\u001b[39m\u001b[39m'\u001b[39m]\n\u001b[0;32m    731\u001b[0m                      \u001b[39mif\u001b[39;00m x[\u001b[39m'\u001b[39m\u001b[39mcodec_type\u001b[39m\u001b[39m'\u001b[39m] \u001b[39m==\u001b[39m \u001b[39m'\u001b[39m\u001b[39maudio\u001b[39m\u001b[39m'\u001b[39m]\n",
      "File \u001b[1;32mc:\\Users\\farras\\anaconda3\\envs\\scrap\\lib\\site-packages\\pydub\\utils.py:274\u001b[0m, in \u001b[0;36mmediainfo_json\u001b[1;34m(filepath, read_ahead_limit)\u001b[0m\n\u001b[0;32m    271\u001b[0m         file\u001b[39m.\u001b[39mclose()\n\u001b[0;32m    273\u001b[0m command \u001b[39m=\u001b[39m [prober, \u001b[39m'\u001b[39m\u001b[39m-of\u001b[39m\u001b[39m'\u001b[39m, \u001b[39m'\u001b[39m\u001b[39mjson\u001b[39m\u001b[39m'\u001b[39m] \u001b[39m+\u001b[39m command_args\n\u001b[1;32m--> 274\u001b[0m res \u001b[39m=\u001b[39m Popen(command, stdin\u001b[39m=\u001b[39;49mstdin_parameter, stdout\u001b[39m=\u001b[39;49mPIPE, stderr\u001b[39m=\u001b[39;49mPIPE)\n\u001b[0;32m    275\u001b[0m output, stderr \u001b[39m=\u001b[39m res\u001b[39m.\u001b[39mcommunicate(\u001b[39minput\u001b[39m\u001b[39m=\u001b[39mstdin_data)\n\u001b[0;32m    276\u001b[0m output \u001b[39m=\u001b[39m output\u001b[39m.\u001b[39mdecode(\u001b[39m\"\u001b[39m\u001b[39mutf-8\u001b[39m\u001b[39m\"\u001b[39m, \u001b[39m'\u001b[39m\u001b[39mignore\u001b[39m\u001b[39m'\u001b[39m)\n",
      "File \u001b[1;32mc:\\Users\\farras\\anaconda3\\envs\\scrap\\lib\\subprocess.py:858\u001b[0m, in \u001b[0;36mPopen.__init__\u001b[1;34m(self, args, bufsize, executable, stdin, stdout, stderr, preexec_fn, close_fds, shell, cwd, env, universal_newlines, startupinfo, creationflags, restore_signals, start_new_session, pass_fds, encoding, errors, text)\u001b[0m\n\u001b[0;32m    854\u001b[0m         \u001b[39mif\u001b[39;00m \u001b[39mself\u001b[39m\u001b[39m.\u001b[39mtext_mode:\n\u001b[0;32m    855\u001b[0m             \u001b[39mself\u001b[39m\u001b[39m.\u001b[39mstderr \u001b[39m=\u001b[39m io\u001b[39m.\u001b[39mTextIOWrapper(\u001b[39mself\u001b[39m\u001b[39m.\u001b[39mstderr,\n\u001b[0;32m    856\u001b[0m                     encoding\u001b[39m=\u001b[39mencoding, errors\u001b[39m=\u001b[39merrors)\n\u001b[1;32m--> 858\u001b[0m     \u001b[39mself\u001b[39;49m\u001b[39m.\u001b[39;49m_execute_child(args, executable, preexec_fn, close_fds,\n\u001b[0;32m    859\u001b[0m                         pass_fds, cwd, env,\n\u001b[0;32m    860\u001b[0m                         startupinfo, creationflags, shell,\n\u001b[0;32m    861\u001b[0m                         p2cread, p2cwrite,\n\u001b[0;32m    862\u001b[0m                         c2pread, c2pwrite,\n\u001b[0;32m    863\u001b[0m                         errread, errwrite,\n\u001b[0;32m    864\u001b[0m                         restore_signals, start_new_session)\n\u001b[0;32m    865\u001b[0m \u001b[39mexcept\u001b[39;00m:\n\u001b[0;32m    866\u001b[0m     \u001b[39m# Cleanup if the child failed starting.\u001b[39;00m\n\u001b[0;32m    867\u001b[0m     \u001b[39mfor\u001b[39;00m f \u001b[39min\u001b[39;00m \u001b[39mfilter\u001b[39m(\u001b[39mNone\u001b[39;00m, (\u001b[39mself\u001b[39m\u001b[39m.\u001b[39mstdin, \u001b[39mself\u001b[39m\u001b[39m.\u001b[39mstdout, \u001b[39mself\u001b[39m\u001b[39m.\u001b[39mstderr)):\n",
      "File \u001b[1;32mc:\\Users\\farras\\anaconda3\\envs\\scrap\\lib\\subprocess.py:1311\u001b[0m, in \u001b[0;36mPopen._execute_child\u001b[1;34m(self, args, executable, preexec_fn, close_fds, pass_fds, cwd, env, startupinfo, creationflags, shell, p2cread, p2cwrite, c2pread, c2pwrite, errread, errwrite, unused_restore_signals, unused_start_new_session)\u001b[0m\n\u001b[0;32m   1309\u001b[0m \u001b[39m# Start the process\u001b[39;00m\n\u001b[0;32m   1310\u001b[0m \u001b[39mtry\u001b[39;00m:\n\u001b[1;32m-> 1311\u001b[0m     hp, ht, pid, tid \u001b[39m=\u001b[39m _winapi\u001b[39m.\u001b[39;49mCreateProcess(executable, args,\n\u001b[0;32m   1312\u001b[0m                              \u001b[39m# no special security\u001b[39;49;00m\n\u001b[0;32m   1313\u001b[0m                              \u001b[39mNone\u001b[39;49;00m, \u001b[39mNone\u001b[39;49;00m,\n\u001b[0;32m   1314\u001b[0m                              \u001b[39mint\u001b[39;49m(\u001b[39mnot\u001b[39;49;00m close_fds),\n\u001b[0;32m   1315\u001b[0m                              creationflags,\n\u001b[0;32m   1316\u001b[0m                              env,\n\u001b[0;32m   1317\u001b[0m                              cwd,\n\u001b[0;32m   1318\u001b[0m                              startupinfo)\n\u001b[0;32m   1319\u001b[0m \u001b[39mfinally\u001b[39;00m:\n\u001b[0;32m   1320\u001b[0m     \u001b[39m# Child is launched. Close the parent's copy of those pipe\u001b[39;00m\n\u001b[0;32m   1321\u001b[0m     \u001b[39m# handles that only the child should have open.  You need\u001b[39;00m\n\u001b[1;32m   (...)\u001b[0m\n\u001b[0;32m   1324\u001b[0m     \u001b[39m# pipe will not close when the child process exits and the\u001b[39;00m\n\u001b[0;32m   1325\u001b[0m     \u001b[39m# ReadFile will hang.\u001b[39;00m\n\u001b[0;32m   1326\u001b[0m     \u001b[39mself\u001b[39m\u001b[39m.\u001b[39m_close_pipe_fds(p2cread, p2cwrite,\n\u001b[0;32m   1327\u001b[0m                          c2pread, c2pwrite,\n\u001b[0;32m   1328\u001b[0m                          errread, errwrite)\n",
      "\u001b[1;31mFileNotFoundError\u001b[0m: [WinError 2] The system cannot find the file specified"
     ]
    }
   ],
   "source": [
    "# scroll\n",
    "element = driver.find_element(By.CSS_SELECTOR, '#details-container > table > tbody > tr:nth-child(1) > td:nth-child(3) > ytd-button-renderer')\n",
    "driver.execute_script(\"arguments[0].scrollIntoView();\", element)\n",
    "time.sleep(1)\n",
    "\n",
    "# Press view email address button\n",
    "driver.find_element(By.CSS_SELECTOR, 'td.style-scope:nth-child(3) > ytd-button-renderer:nth-child(1) > a:nth-child(1)').click()\n",
    "\n",
    "# Wait until captcha iframe loaded\n",
    "WebDriverWait(driver, 20).until(EC.visibility_of_element_located((By.CSS_SELECTOR, \"#recaptcha\")))\n",
    "\n",
    "# Filter through all the iframes on the page and find the one that corresponds to the captcha\n",
    "iframes = driver.find_elements(By.TAG_NAME, 'iframe')\n",
    "for iframe in iframes:\n",
    "    if iframe.get_attribute(\"src\").startswith(\"https://www.google.com/recaptcha/api2/anchor\"):\n",
    "        captcha = iframe\n",
    "\n",
    "# Switch current context\n",
    "driver.switch_to.frame(captcha)\n",
    "\n",
    "# Click the checkbox\n",
    "WebDriverWait(driver, 20).until(EC.presence_of_element_located((By.CLASS_NAME, \"recaptcha-checkbox-border\")))\n",
    "driver.find_element(By.CLASS_NAME,\"recaptcha-checkbox-border\").click()\n",
    "\n",
    "# CASE 1: captcha image showed\n",
    "# Back to main iframe\n",
    "driver.switch_to.default_content()\n",
    "# print('BACK')\n",
    "\n",
    "# Image iframe\n",
    "iframesCount = driver.find_elements(By.TAG_NAME, 'iframe')\n",
    "\n",
    "captchaState = 0\n",
    "\n",
    "for iframe2 in iframesCount:\n",
    "    # CASE 1: image selection appeared\n",
    "    if iframe2.get_attribute(\"src\").startswith(\"https://www.google.com/recaptcha/api2/bframe\"):\n",
    "        captcha2 = iframe2\n",
    "        # print(captcha2)\n",
    "        # print('Found the iframe!')\n",
    "\n",
    "        driver.switch_to.frame(captcha2)\n",
    "        # print('inner iframe')\n",
    "\n",
    "        # Get the audio challenge instead\n",
    "        WebDriverWait(driver, 20).until(EC.visibility_of_element_located((By.CSS_SELECTOR, \"#recaptcha-audio-button\")))\n",
    "        driver.find_element(By.CSS_SELECTOR, '#recaptcha-audio-button').click()\n",
    "\n",
    "        # Download & convert the file\n",
    "        WebDriverWait(driver, 10).until(EC.visibility_of_element_located((By.CSS_SELECTOR, \"body > div > div > div.rc-audiochallenge-tdownload > a\")))\n",
    "        download_link = driver.find_element(By.CSS_SELECTOR, \"body > div > div > div.rc-audiochallenge-tdownload > a\")\n",
    "\n",
    "        if not download_link:\n",
    "            raise NotExistent(status.RATELIMITED)\n",
    "\n",
    "        with open(mp3_file, \"wb\") as f:\n",
    "            link = download_link.get_attribute(\"href\")\n",
    "            r = requests.get(link, allow_redirects=True)\n",
    "            f.write(r.content)\n",
    "            f.close()\n",
    "\n",
    "        # Convert to wav here\n",
    "        AudioSegment.from_mp3(mp3_file).export(wav_file, format=\"wav\")\n",
    "\n",
    "        # Using google's own api against them\n",
    "        recognizer = sr.Recognizer()\n",
    "\n",
    "        with sr.AudioFile(wav_file) as source:\n",
    "            recorded_audio = recognizer.listen(source)\n",
    "            text = recognizer.recognize_google(recorded_audio)\n",
    "        print('audio recognized!')\n",
    "\n",
    "        # Type out the answer\n",
    "        driver.find_element(By.CSS_SELECTOR, '#audio-response').send_keys(text)\n",
    "\n",
    "        # Click the \"Verify\" button to complete\n",
    "        driver.find_element(By.CSS_SELECTOR, '#recaptcha-verify-button').click()\n",
    "        time.sleep(1)\n",
    "\n",
    "        # Press the Submit button\n",
    "        driver.switch_to.default_content()\n",
    "        driver.find_element(By.CSS_SELECTOR, '#submit-btn').click()\n",
    "\n",
    "        __cleanup(tmp_files)\n",
    "\n",
    "        captchaState = 1\n",
    "            \n",
    "#CASE 2: captcha completed instantly\n",
    "if captchaState == 0:\n",
    "    # Switch current context\n",
    "    driver.switch_to.frame(captcha)\n",
    "\n",
    "    WebDriverWait(driver, 10).until(EC.visibility_of_element_located((By.CSS_SELECTOR, \"#recaptcha-anchor > div.recaptcha-checkbox-checkmark\")))\n",
    "    time.sleep(1)\n",
    "    driver.switch_to.default_content()\n",
    "\n",
    "    # Press the Submit button2\n",
    "    driver.find_element(By.CSS_SELECTOR, '#submit-btn').click()"
   ]
  },
  {
   "cell_type": "code",
   "execution_count": null,
   "metadata": {},
   "outputs": [],
   "source": [
    "emailtd = driver.find_element(By.CSS_SELECTOR, '#details-container > table > tbody > tr:nth-child(1) > td:nth-child(6)')\n",
    "print(emailtd.find_element(By.CSS_SELECTOR, '#email').text)"
   ]
  },
  {
   "cell_type": "code",
   "execution_count": 14,
   "metadata": {},
   "outputs": [],
   "source": [
    "sign_in = driver.find_element(By.CSS_SELECTOR, 'a[class = \"yt-simple-endpoint style-scope yt-formatted-string\"]')\n",
    "sign_in.click()"
   ]
  },
  {
   "cell_type": "code",
   "execution_count": 15,
   "metadata": {},
   "outputs": [],
   "source": [
    "driver.find_element(By.ID, 'identifierId').send_keys(email)\n",
    "\n",
    "driver.find_element(\n",
    "    By.CSS_SELECTOR, '#identifierNext > div > button > span').click()\n",
    "\n",
    "# password_selector = \"#password > div.aCsJod.oJeWuf > div > div.Xb9hP > input\"\n",
    "\n",
    "# WebDriverWait(browser, 10).until(\n",
    "#     EC.visibility_of_element_located((By.CSS_SELECTOR, password_selector)))\n",
    "\n",
    "# browser.find_element(\n",
    "#     By.CSS_SELECTOR, password_selector).send_keys(password)\n",
    "\n",
    "# browser.find_element(\n",
    "#     By.CSS_SELECTOR, '#passwordNext > div > button > span').click()"
   ]
  },
  {
   "cell_type": "code",
   "execution_count": 16,
   "metadata": {},
   "outputs": [],
   "source": [
    "cyber_user = driver.find_element(By.NAME, 'username')\n",
    "cyber_user.send_keys('162012133055')\n",
    "\n",
    "cyber_pass = driver.find_element(By.NAME, 'passwd')\n",
    "cyber_pass.send_keys('farras210102')\n",
    "\n",
    "cyber_signin = driver.find_element(By.NAME, 'signIn')\n",
    "cyber_signin.click()\n"
   ]
  },
  {
   "cell_type": "code",
   "execution_count": 17,
   "metadata": {},
   "outputs": [],
   "source": [
    "cont = driver.find_element(By.CSS_SELECTOR, 'span[class = \"VfPpkd-vQzf8d\"]')\n",
    "cont.click()"
   ]
  },
  {
   "cell_type": "code",
   "execution_count": 19,
   "metadata": {},
   "outputs": [],
   "source": [
    "see_email = driver.find_element(By.CSS_SELECTOR, 'ytd-button-renderer[class = \"style-scope ytd-channel-about-metadata-renderer style-default size-default\"]')\n",
    "driver.execute_script(\"arguments[0].click();\", see_email)\n"
   ]
  }
 ],
 "metadata": {
  "kernelspec": {
   "display_name": "Python 3.8.13 ('scrap')",
   "language": "python",
   "name": "python3"
  },
  "language_info": {
   "codemirror_mode": {
    "name": "ipython",
    "version": 3
   },
   "file_extension": ".py",
   "mimetype": "text/x-python",
   "name": "python",
   "nbconvert_exporter": "python",
   "pygments_lexer": "ipython3",
   "version": "3.8.13"
  },
  "orig_nbformat": 4,
  "vscode": {
   "interpreter": {
    "hash": "faba58285d1274e92bfe9312e8e316857fb7b69661d7ea0ff2588c6ec1835f06"
   }
  }
 },
 "nbformat": 4,
 "nbformat_minor": 2
}
