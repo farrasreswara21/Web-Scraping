{
 "cells": [
  {
   "cell_type": "code",
   "execution_count": 2,
   "metadata": {},
   "outputs": [],
   "source": [
    "import pandas as pd\n",
    "\n",
    "import time\n",
    "from selenium.webdriver.chrome.service import Service\n",
    "from selenium.webdriver.common.by import By\n",
    "from selenium.webdriver.common.keys import Keys\n",
    "from selenium.common.exceptions import NoSuchElementException \n",
    "from selenium import webdriver\n",
    "from selenium.webdriver.common.action_chains import ActionChains\n",
    "\n",
    "import datetime"
   ]
  },
  {
   "cell_type": "code",
   "execution_count": 62,
   "metadata": {},
   "outputs": [],
   "source": [
    "#Inisiasi \n",
    "s=Service('C:/SAINS DATA/chromedriver.exe')\n",
    "options = webdriver.ChromeOptions()\n",
    "options.add_experimental_option(\"detach\", True)\n",
    "options.add_argument('disable_infobars')\n",
    "options.add_argument(\"window-size=800,600\")\n",
    "# options.headless = True\n",
    "\n",
    "driver = webdriver.Chrome(service=s, options=options)\n",
    "url=\"https://kampusmerdeka.kemdikbud.go.id/program/magang/\"\n",
    "driver.get(url)\n",
    "# driver.maximize_window()"
   ]
  },
  {
   "cell_type": "code",
   "execution_count": 63,
   "metadata": {},
   "outputs": [],
   "source": [
    "teknologi = driver.find_element(By.CSS_SELECTOR, 'div[class = \"box-0-0-1 clickable-0-0-8 content-0-0-1189 noMargin-0-0-1190\"]')\n",
    "teknologi.click()"
   ]
  },
  {
   "cell_type": "code",
   "execution_count": 64,
   "metadata": {},
   "outputs": [],
   "source": [
    "SCROLL_PAUSE_TIME = 0.6\n",
    "\n",
    "# Get scroll height\n",
    "last_height = driver.execute_script(\"return document.documentElement.scrollHeight\")\n",
    "\n",
    "while True:\n",
    "    # Scroll down to bottom\n",
    "    driver.execute_script(\"window.scrollTo(0, document.documentElement.scrollHeight);\")\n",
    "\n",
    "    # Wait to load page\n",
    "    time.sleep(SCROLL_PAUSE_TIME)\n",
    "\n",
    "    # Calculate new scroll height and compare with last scroll height\n",
    "    new_height = driver.execute_script(\"return document.documentElement.scrollHeight\")\n",
    "    if new_height == last_height:\n",
    "        break\n",
    "    last_height = new_height\n",
    "    \n",
    "driver.find_element(By.TAG_NAME, 'body').send_keys(Keys.CONTROL + Keys.HOME)"
   ]
  },
  {
   "cell_type": "code",
   "execution_count": 37,
   "metadata": {},
   "outputs": [
    {
     "name": "stdout",
     "output_type": "stream",
     "text": [
      "984\n"
     ]
    }
   ],
   "source": [
    "list_link_magang = []\n",
    "link_magang = driver.find_elements(By.CSS_SELECTOR, 'a[class = \"text-0-0-26 sans-0-0-40 underline-0-0-39 clickable-0-0-28\"]')\n",
    "for link in link_magang:\n",
    "    list_link_magang.append(link.get_attribute('href'))\n",
    "\n",
    "print(len(list_link_magang))"
   ]
  },
  {
   "cell_type": "code",
   "execution_count": 66,
   "metadata": {},
   "outputs": [
    {
     "ename": "NoSuchElementException",
     "evalue": "Message: no such element: Unable to locate element: {\"method\":\"css selector\",\"selector\":\"p[class = \"text-0-0-26 sans-0-0-40 small-0-0-43 mt2-0-0-1227\"]\"}\n  (Session info: chrome=103.0.5060.114)\nStacktrace:\nBacktrace:\n\tOrdinal0 [0x0103D953+2414931]\n\tOrdinal0 [0x00FCF5E1+1963489]\n\tOrdinal0 [0x00EBC6B8+837304]\n\tOrdinal0 [0x00EE9500+1021184]\n\tOrdinal0 [0x00EE979B+1021851]\n\tOrdinal0 [0x00F16502+1205506]\n\tOrdinal0 [0x00F044E4+1131748]\n\tOrdinal0 [0x00F14812+1198098]\n\tOrdinal0 [0x00F042B6+1131190]\n\tOrdinal0 [0x00EDE860+976992]\n\tOrdinal0 [0x00EDF756+980822]\n\tGetHandleVerifier [0x012ACC62+2510274]\n\tGetHandleVerifier [0x0129F760+2455744]\n\tGetHandleVerifier [0x010CEABA+551962]\n\tGetHandleVerifier [0x010CD916+547446]\n\tOrdinal0 [0x00FD5F3B+1990459]\n\tOrdinal0 [0x00FDA898+2009240]\n\tOrdinal0 [0x00FDA985+2009477]\n\tOrdinal0 [0x00FE3AD1+2046673]\n\tBaseThreadInitThunk [0x765D6739+25]\n\tRtlGetFullPathName_UEx [0x77BF8FEF+1215]\n\tRtlGetFullPathName_UEx [0x77BF8FBD+1165]\n",
     "output_type": "error",
     "traceback": [
      "\u001b[1;31m---------------------------------------------------------------------------\u001b[0m",
      "\u001b[1;31mNoSuchElementException\u001b[0m                    Traceback (most recent call last)",
      "\u001b[1;32m~\\AppData\\Local\\Temp/ipykernel_10288/2936338605.py\u001b[0m in \u001b[0;36m<module>\u001b[1;34m\u001b[0m\n\u001b[1;32m----> 1\u001b[1;33m \u001b[0mperusahaan\u001b[0m \u001b[1;33m=\u001b[0m \u001b[0mdriver\u001b[0m\u001b[1;33m.\u001b[0m\u001b[0mfind_element\u001b[0m\u001b[1;33m(\u001b[0m\u001b[0mBy\u001b[0m\u001b[1;33m.\u001b[0m\u001b[0mCSS_SELECTOR\u001b[0m\u001b[1;33m,\u001b[0m \u001b[1;34m'p[class = \"text-0-0-26 sans-0-0-40 small-0-0-43 mt2-0-0-1227\"]'\u001b[0m\u001b[1;33m)\u001b[0m\u001b[1;33m\u001b[0m\u001b[1;33m\u001b[0m\u001b[0m\n\u001b[0m\u001b[0;32m      2\u001b[0m \u001b[0mprint\u001b[0m\u001b[1;33m(\u001b[0m\u001b[0mperusahaan\u001b[0m\u001b[1;33m.\u001b[0m\u001b[0mtext\u001b[0m\u001b[1;33m)\u001b[0m\u001b[1;33m\u001b[0m\u001b[1;33m\u001b[0m\u001b[0m\n",
      "\u001b[1;32mc:\\Users\\farras\\AppData\\Local\\Programs\\Python\\Python38\\lib\\site-packages\\selenium\\webdriver\\remote\\webdriver.py\u001b[0m in \u001b[0;36mfind_element\u001b[1;34m(self, by, value)\u001b[0m\n\u001b[0;32m   1236\u001b[0m             \u001b[0mvalue\u001b[0m \u001b[1;33m=\u001b[0m \u001b[1;34m'[name=\"%s\"]'\u001b[0m \u001b[1;33m%\u001b[0m \u001b[0mvalue\u001b[0m\u001b[1;33m\u001b[0m\u001b[1;33m\u001b[0m\u001b[0m\n\u001b[0;32m   1237\u001b[0m \u001b[1;33m\u001b[0m\u001b[0m\n\u001b[1;32m-> 1238\u001b[1;33m         return self.execute(Command.FIND_ELEMENT, {\n\u001b[0m\u001b[0;32m   1239\u001b[0m             \u001b[1;34m'using'\u001b[0m\u001b[1;33m:\u001b[0m \u001b[0mby\u001b[0m\u001b[1;33m,\u001b[0m\u001b[1;33m\u001b[0m\u001b[1;33m\u001b[0m\u001b[0m\n\u001b[0;32m   1240\u001b[0m             'value': value})['value']\n",
      "\u001b[1;32mc:\\Users\\farras\\AppData\\Local\\Programs\\Python\\Python38\\lib\\site-packages\\selenium\\webdriver\\remote\\webdriver.py\u001b[0m in \u001b[0;36mexecute\u001b[1;34m(self, driver_command, params)\u001b[0m\n\u001b[0;32m    416\u001b[0m         \u001b[0mresponse\u001b[0m \u001b[1;33m=\u001b[0m \u001b[0mself\u001b[0m\u001b[1;33m.\u001b[0m\u001b[0mcommand_executor\u001b[0m\u001b[1;33m.\u001b[0m\u001b[0mexecute\u001b[0m\u001b[1;33m(\u001b[0m\u001b[0mdriver_command\u001b[0m\u001b[1;33m,\u001b[0m \u001b[0mparams\u001b[0m\u001b[1;33m)\u001b[0m\u001b[1;33m\u001b[0m\u001b[1;33m\u001b[0m\u001b[0m\n\u001b[0;32m    417\u001b[0m         \u001b[1;32mif\u001b[0m \u001b[0mresponse\u001b[0m\u001b[1;33m:\u001b[0m\u001b[1;33m\u001b[0m\u001b[1;33m\u001b[0m\u001b[0m\n\u001b[1;32m--> 418\u001b[1;33m             \u001b[0mself\u001b[0m\u001b[1;33m.\u001b[0m\u001b[0merror_handler\u001b[0m\u001b[1;33m.\u001b[0m\u001b[0mcheck_response\u001b[0m\u001b[1;33m(\u001b[0m\u001b[0mresponse\u001b[0m\u001b[1;33m)\u001b[0m\u001b[1;33m\u001b[0m\u001b[1;33m\u001b[0m\u001b[0m\n\u001b[0m\u001b[0;32m    419\u001b[0m             response['value'] = self._unwrap_value(\n\u001b[0;32m    420\u001b[0m                 response.get('value', None))\n",
      "\u001b[1;32mc:\\Users\\farras\\AppData\\Local\\Programs\\Python\\Python38\\lib\\site-packages\\selenium\\webdriver\\remote\\errorhandler.py\u001b[0m in \u001b[0;36mcheck_response\u001b[1;34m(self, response)\u001b[0m\n\u001b[0;32m    241\u001b[0m                 \u001b[0malert_text\u001b[0m \u001b[1;33m=\u001b[0m \u001b[0mvalue\u001b[0m\u001b[1;33m[\u001b[0m\u001b[1;34m'alert'\u001b[0m\u001b[1;33m]\u001b[0m\u001b[1;33m.\u001b[0m\u001b[0mget\u001b[0m\u001b[1;33m(\u001b[0m\u001b[1;34m'text'\u001b[0m\u001b[1;33m)\u001b[0m\u001b[1;33m\u001b[0m\u001b[1;33m\u001b[0m\u001b[0m\n\u001b[0;32m    242\u001b[0m             \u001b[1;32mraise\u001b[0m \u001b[0mexception_class\u001b[0m\u001b[1;33m(\u001b[0m\u001b[0mmessage\u001b[0m\u001b[1;33m,\u001b[0m \u001b[0mscreen\u001b[0m\u001b[1;33m,\u001b[0m \u001b[0mstacktrace\u001b[0m\u001b[1;33m,\u001b[0m \u001b[0malert_text\u001b[0m\u001b[1;33m)\u001b[0m  \u001b[1;31m# type: ignore[call-arg]  # mypy is not smart enough here\u001b[0m\u001b[1;33m\u001b[0m\u001b[1;33m\u001b[0m\u001b[0m\n\u001b[1;32m--> 243\u001b[1;33m         \u001b[1;32mraise\u001b[0m \u001b[0mexception_class\u001b[0m\u001b[1;33m(\u001b[0m\u001b[0mmessage\u001b[0m\u001b[1;33m,\u001b[0m \u001b[0mscreen\u001b[0m\u001b[1;33m,\u001b[0m \u001b[0mstacktrace\u001b[0m\u001b[1;33m)\u001b[0m\u001b[1;33m\u001b[0m\u001b[1;33m\u001b[0m\u001b[0m\n\u001b[0m\u001b[0;32m    244\u001b[0m \u001b[1;33m\u001b[0m\u001b[0m\n\u001b[0;32m    245\u001b[0m     \u001b[1;32mdef\u001b[0m \u001b[0m_value_or_default\u001b[0m\u001b[1;33m(\u001b[0m\u001b[0mself\u001b[0m\u001b[1;33m,\u001b[0m \u001b[0mobj\u001b[0m\u001b[1;33m:\u001b[0m \u001b[0mMapping\u001b[0m\u001b[1;33m[\u001b[0m\u001b[0m_KT\u001b[0m\u001b[1;33m,\u001b[0m \u001b[0m_VT\u001b[0m\u001b[1;33m]\u001b[0m\u001b[1;33m,\u001b[0m \u001b[0mkey\u001b[0m\u001b[1;33m:\u001b[0m \u001b[0m_KT\u001b[0m\u001b[1;33m,\u001b[0m \u001b[0mdefault\u001b[0m\u001b[1;33m:\u001b[0m \u001b[0m_VT\u001b[0m\u001b[1;33m)\u001b[0m \u001b[1;33m->\u001b[0m \u001b[0m_VT\u001b[0m\u001b[1;33m:\u001b[0m\u001b[1;33m\u001b[0m\u001b[1;33m\u001b[0m\u001b[0m\n",
      "\u001b[1;31mNoSuchElementException\u001b[0m: Message: no such element: Unable to locate element: {\"method\":\"css selector\",\"selector\":\"p[class = \"text-0-0-26 sans-0-0-40 small-0-0-43 mt2-0-0-1227\"]\"}\n  (Session info: chrome=103.0.5060.114)\nStacktrace:\nBacktrace:\n\tOrdinal0 [0x0103D953+2414931]\n\tOrdinal0 [0x00FCF5E1+1963489]\n\tOrdinal0 [0x00EBC6B8+837304]\n\tOrdinal0 [0x00EE9500+1021184]\n\tOrdinal0 [0x00EE979B+1021851]\n\tOrdinal0 [0x00F16502+1205506]\n\tOrdinal0 [0x00F044E4+1131748]\n\tOrdinal0 [0x00F14812+1198098]\n\tOrdinal0 [0x00F042B6+1131190]\n\tOrdinal0 [0x00EDE860+976992]\n\tOrdinal0 [0x00EDF756+980822]\n\tGetHandleVerifier [0x012ACC62+2510274]\n\tGetHandleVerifier [0x0129F760+2455744]\n\tGetHandleVerifier [0x010CEABA+551962]\n\tGetHandleVerifier [0x010CD916+547446]\n\tOrdinal0 [0x00FD5F3B+1990459]\n\tOrdinal0 [0x00FDA898+2009240]\n\tOrdinal0 [0x00FDA985+2009477]\n\tOrdinal0 [0x00FE3AD1+2046673]\n\tBaseThreadInitThunk [0x765D6739+25]\n\tRtlGetFullPathName_UEx [0x77BF8FEF+1215]\n\tRtlGetFullPathName_UEx [0x77BF8FBD+1165]\n"
     ]
    }
   ],
   "source": [
    "perusahaan = driver.find_element(By.CSS_SELECTOR, 'p[class = \"text-0-0-26 sans-0-0-40 small-0-0-43 mt2-0-0-1227\"]')\n",
    "print(perusahaan.text)"
   ]
  },
  {
   "cell_type": "code",
   "execution_count": 45,
   "metadata": {},
   "outputs": [
    {
     "name": "stdout",
     "output_type": "stream",
     "text": [
      "1. Cibubur, Kabupaten Bogor, Jawa Barat; 2. Online\n"
     ]
    }
   ],
   "source": [
    "lokasi = driver.find_element(By.CSS_SELECTOR, 'span[class = \"text-0-0-26 sans-0-0-40\"]')\n",
    "print(lokasi.text)"
   ]
  },
  {
   "cell_type": "code",
   "execution_count": 51,
   "metadata": {},
   "outputs": [
    {
     "name": "stdout",
     "output_type": "stream",
     "text": [
      "Dalam aktivitas ini, pemagang akan memiliki dua tugas utama, yaitu:\n",
      "\n",
      "1. Tap in / ikut mengerjakan proyek-proyek NM yang sedang berjalan, baik proyek eksternal (commissioned & partnership) maupun proyek internal (retail, system improvement, operasional perusahaan), sesuai dengan latar belakang pendidikan maupun minat dengan pendampingan langsung mentor. \n",
      "\n",
      "2. Keterlibatan pemagang dalam proyek berjalan dengan format on the job training dimana pemagang akan mengikuti keseluruhan SOP pengerjaan proyek mulai dari pemberian brief sampai task delivery.\n",
      "\n",
      "Proyek akhir magang berupa Intern Exhibition, dimana seluruh peserta magang akan bekerja secara tim untuk menyelenggarakan eksibisi seni digital di Kala Kini Nanti. Eksibisi digital ini merupakan miniatur dari alur pengerjaan proyek yang sesungguhnya. Pemagang akan mengambil peran masing-masing dalam pengerjaan eksibisi tersebut secara penuh dimana mentor hanya bertindak sebagai pengawas (dalam hal ini bisa dianalogikan sebagai klien).\n",
      "\n",
      "Kala Kini Nanti yang berada di bawah naungan Sembilan Matahari merupakan digital art platform sekaligus laboratorium riset dan pengembangan karya berbasis visual terus membuka kemungkinan bagi berbagai komunitas untuk berkumpul dan terhubung satu sama lain. Kala Kini Nanti juga memfasilitasi proses belajar, pertukaran ide dan informasi, kegiatan semacam ini sangat efektif dalam melahirkan kebaruan dan kemajuan dalam \n",
      "berkarya.  Platform digital ini perlu terus dikembangkan dan dikenalkan sebagai sebuah media inovatif bagi masyarakat umum yang berfungsi sebagai sarana rekreasi juga sumber informasi sesuai dengan visi Sembilan Matahari yaitu Bright Society, Bright Environment dan Bright Economy.\n",
      "\n",
      "Dengan mengikuti program magang ini kami berharap para peserta magang dapat lebih siap dalam menghadapi dunia kerja, dimana mereka mendapatkan kepercayaan diri yang lebih baik dengan pengembangan ketrampilan teknis dan ketrampilan non-teknisnya. Sembilan Matahari sebagai pelaku industri pun berharap mendapatkan banyak temuan baru tentang calon Sumber Daya Manusia  dan trend pembelajaran terkini, termasuk karakter dari SDM potensial tersebut terkait penyusunan perencanaan SDM pada khususnya, dan perencanaan perusahaan pada umumnya.\n"
     ]
    }
   ],
   "source": [
    "kegiatan = driver.find_element(By.CSS_SELECTOR, 'p[class = \"text-0-0-26 sans-0-0-40 small-0-0-43 justify-0-0-34 pt4-0-0-667\"]')\n",
    "print(kegiatan.text)"
   ]
  },
  {
   "cell_type": "code",
   "execution_count": 57,
   "metadata": {},
   "outputs": [
    {
     "name": "stdout",
     "output_type": "stream",
     "text": [
      "Jurusan: Setara Desain Komunikasi Visual\n",
      "Jenjang: D3 / D4 / S1\n",
      "\n",
      "Kriteria hard skills:\n",
      "- 3D Software\n",
      "\n",
      "Kriteria soft skills:\n",
      "- Komunikasi\n",
      "- Bekerja dalam tim\n",
      "- Kreatif\n",
      "- Wawasan luas\n"
     ]
    }
   ],
   "source": [
    "kriteria = driver.find_elements(By.CSS_SELECTOR, 'p[class = \"text-0-0-26 sans-0-0-40 small-0-0-43 justify-0-0-34 pt4-0-0-667\"]')[1].text\n",
    "# print([i.text for i in kriteria])\n",
    "print(kriteria)"
   ]
  },
  {
   "cell_type": "code",
   "execution_count": 58,
   "metadata": {},
   "outputs": [
    {
     "name": "stdout",
     "output_type": "stream",
     "text": [
      "['Kemampuan Management Data Asset', 'Rendering', 'Pencarian referensi dan Menerjemahkan brief menjadi visual', 'Pembuatan Asset 3D Modeling', 'Animasi 3D Asset', 'Compositing Asset 3D ke Template Content', 'Kemampuan identifikasi dan analisa brief tiap project', 'Kemampuan adaptasi', 'Kerjasama tim secara dinamis']\n"
     ]
    }
   ],
   "source": [
    "kompetensi = driver.find_elements(By.CSS_SELECTOR, 'p[class = \"text-0-0-26 sans-0-0-40 heading-4-0-0-48 ellipsis-0-0-29\"]')\n",
    "print([i.text for i in kompetensi])"
   ]
  },
  {
   "cell_type": "code",
   "execution_count": 78,
   "metadata": {},
   "outputs": [
    {
     "name": "stdout",
     "output_type": "stream",
     "text": [
      "Braindevs\n",
      "  (5 bulan)\n",
      "1 Data  01BD - Systems Analyst | Merdeka Belajar - Kampus Merdeka berhasil diambil\n",
      "Braindevs\n",
      "  (5 bulan)\n",
      "2 Data  02BD - Business Analyst | Merdeka Belajar - Kampus Merdeka berhasil diambil\n",
      "Braindevs\n",
      "  (5 bulan)\n",
      "3 Data  03BD - Product Manager | Merdeka Belajar - Kampus Merdeka berhasil diambil\n",
      "Braindevs\n",
      "  (5 bulan)\n",
      "4 Data  04BD - Software Engineer | Merdeka Belajar - Kampus Merdeka berhasil diambil\n",
      "Braindevs\n",
      "  (5 bulan)\n",
      "5 Data  05BD - Data Scientist | Merdeka Belajar - Kampus Merdeka berhasil diambil\n",
      "Braindevs\n",
      "  (5 bulan)\n",
      "6 Data  06BD - Data Analyst | Merdeka Belajar - Kampus Merdeka berhasil diambil\n",
      "Braindevs\n",
      "  (5 bulan)\n",
      "7 Data  07BD - Software Architect | Merdeka Belajar - Kampus Merdeka berhasil diambil\n",
      "Braindevs\n",
      "  (5 bulan)\n",
      "8 Data  08BD - Enterprise Architect | Merdeka Belajar - Kampus Merdeka berhasil diambil\n",
      "Studycle\n",
      "  (5 bulan)\n",
      "9 Data  2D Animator | Merdeka Belajar - Kampus Merdeka berhasil diambil\n",
      "IT Total Solution\n",
      "  (5 bulan)\n",
      "10 Data  2D Artist | Merdeka Belajar - Kampus Merdeka berhasil diambil\n"
     ]
    }
   ],
   "source": [
    "judul = []\n",
    "list_perusahaan = []\n",
    "list_lokasi = []\n",
    "list_kegiatan = []\n",
    "list_kriteria = []\n",
    "list_kompetensi = []\n",
    "n = 1\n",
    "\n",
    "for link in list_link_magang[0:10] : \n",
    "    driver.get(link)\n",
    "    time.sleep(5)\n",
    "    driver.execute_script(\"window.scrollTo(0, 640);\")\n",
    "    \n",
    "    #JUDUL\n",
    "    judul.append(driver.title)\n",
    "    \n",
    "    #NAMA PERUSAHAAN\n",
    "    perusahaan = driver.find_element(By.CSS_SELECTOR, 'p[class = \"text-0-0-26 sans-0-0-40 small-0-0-43 mt2-0-0-1198\"]')\n",
    "    print(perusahaan.text)\n",
    "    list_perusahaan.append(perusahaan.text)\n",
    "    \n",
    "    #LOKASI\n",
    "    lokasi = driver.find_element(By.CSS_SELECTOR, 'span[class = \"text-0-0-26 sans-0-0-40\"]')\n",
    "    print(lokasi.text)\n",
    "    list_lokasi.append(lokasi.text)\n",
    "    \n",
    "    #KEGIATAN\n",
    "    kegiatan = driver.find_element(By.CSS_SELECTOR, 'p[class = \"text-0-0-26 sans-0-0-40 small-0-0-43 justify-0-0-34 pt4-0-0-667\"]')\n",
    "    list_kegiatan.append(kegiatan)\n",
    "    \n",
    "    #KRITERIA\n",
    "    kriteria = driver.find_elements(By.CSS_SELECTOR, 'p[class = \"text-0-0-26 sans-0-0-40 small-0-0-43 justify-0-0-34 pt4-0-0-667\"]')[1].text\n",
    "    list_kriteria.append(kriteria)\n",
    "    \n",
    "    #KOMPETENSI \n",
    "    kompetensi = driver.find_elements(By.CSS_SELECTOR, 'p[class = \"text-0-0-26 sans-0-0-40 heading-4-0-0-48 ellipsis-0-0-29\"]')\n",
    "    \n",
    "    print(n, 'Data ', driver.title, 'berhasil diambil')\n",
    "    n = n + 1"
   ]
  },
  {
   "cell_type": "code",
   "execution_count": 83,
   "metadata": {},
   "outputs": [
    {
     "name": "stdout",
     "output_type": "stream",
     "text": [
      "dict_values([[], [], [], [], '\"Jurusan: DKV, GAME, Animasi,  \\nDiutamakan  :\\n-mengetahui alur produksi asset dalam game\\n- paham prinsip animasi\\n-memiliki portofolio \"', [<selenium.webdriver.remote.webelement.WebElement (session=\"4606b3b04d52cc4451501b8d725cbe87\", element=\"03bcfda6-6deb-466b-934c-b6426d47a1e8\")>]])\n"
     ]
    }
   ],
   "source": [
    "judul = []\n",
    "list_perusahaan = []\n",
    "list_lokasi = []\n",
    "list_kegiatan = []\n",
    "list_kriteria = []\n",
    "\n",
    "dict_magang = {\n",
    "    'Magang' : judul,\n",
    "    'perusahaan' : list_perusahaan,\n",
    "    'Lokasi' : list_lokasi,\n",
    "    'Kegiatan' : list_kegiatan,\n",
    "    'Kriteria' : kriteria, \n",
    "    'kompetensi' : kompetensi \n",
    "}\n",
    "\n",
    "print(dict_magang.values())"
   ]
  },
  {
   "cell_type": "code",
   "execution_count": 73,
   "metadata": {},
   "outputs": [
    {
     "ename": "ValueError",
     "evalue": "All arrays must be of the same length",
     "output_type": "error",
     "traceback": [
      "\u001b[1;31m---------------------------------------------------------------------------\u001b[0m",
      "\u001b[1;31mValueError\u001b[0m                                Traceback (most recent call last)",
      "\u001b[1;32m~\\AppData\\Local\\Temp/ipykernel_10288/2026460551.py\u001b[0m in \u001b[0;36m<module>\u001b[1;34m\u001b[0m\n\u001b[1;32m----> 1\u001b[1;33m \u001b[0mdf_magang\u001b[0m \u001b[1;33m=\u001b[0m \u001b[0mpd\u001b[0m\u001b[1;33m.\u001b[0m\u001b[0mDataFrame\u001b[0m\u001b[1;33m(\u001b[0m\u001b[0mdict_magang\u001b[0m\u001b[1;33m)\u001b[0m\u001b[1;33m\u001b[0m\u001b[1;33m\u001b[0m\u001b[0m\n\u001b[0m\u001b[0;32m      2\u001b[0m \u001b[0mdf_magang\u001b[0m\u001b[1;33m\u001b[0m\u001b[1;33m\u001b[0m\u001b[0m\n",
      "\u001b[1;32mc:\\Users\\farras\\AppData\\Local\\Programs\\Python\\Python38\\lib\\site-packages\\pandas\\core\\frame.py\u001b[0m in \u001b[0;36m__init__\u001b[1;34m(self, data, index, columns, dtype, copy)\u001b[0m\n\u001b[0;32m    634\u001b[0m         \u001b[1;32melif\u001b[0m \u001b[0misinstance\u001b[0m\u001b[1;33m(\u001b[0m\u001b[0mdata\u001b[0m\u001b[1;33m,\u001b[0m \u001b[0mdict\u001b[0m\u001b[1;33m)\u001b[0m\u001b[1;33m:\u001b[0m\u001b[1;33m\u001b[0m\u001b[1;33m\u001b[0m\u001b[0m\n\u001b[0;32m    635\u001b[0m             \u001b[1;31m# GH#38939 de facto copy defaults to False only in non-dict cases\u001b[0m\u001b[1;33m\u001b[0m\u001b[1;33m\u001b[0m\u001b[1;33m\u001b[0m\u001b[0m\n\u001b[1;32m--> 636\u001b[1;33m             \u001b[0mmgr\u001b[0m \u001b[1;33m=\u001b[0m \u001b[0mdict_to_mgr\u001b[0m\u001b[1;33m(\u001b[0m\u001b[0mdata\u001b[0m\u001b[1;33m,\u001b[0m \u001b[0mindex\u001b[0m\u001b[1;33m,\u001b[0m \u001b[0mcolumns\u001b[0m\u001b[1;33m,\u001b[0m \u001b[0mdtype\u001b[0m\u001b[1;33m=\u001b[0m\u001b[0mdtype\u001b[0m\u001b[1;33m,\u001b[0m \u001b[0mcopy\u001b[0m\u001b[1;33m=\u001b[0m\u001b[0mcopy\u001b[0m\u001b[1;33m,\u001b[0m \u001b[0mtyp\u001b[0m\u001b[1;33m=\u001b[0m\u001b[0mmanager\u001b[0m\u001b[1;33m)\u001b[0m\u001b[1;33m\u001b[0m\u001b[1;33m\u001b[0m\u001b[0m\n\u001b[0m\u001b[0;32m    637\u001b[0m         \u001b[1;32melif\u001b[0m \u001b[0misinstance\u001b[0m\u001b[1;33m(\u001b[0m\u001b[0mdata\u001b[0m\u001b[1;33m,\u001b[0m \u001b[0mma\u001b[0m\u001b[1;33m.\u001b[0m\u001b[0mMaskedArray\u001b[0m\u001b[1;33m)\u001b[0m\u001b[1;33m:\u001b[0m\u001b[1;33m\u001b[0m\u001b[1;33m\u001b[0m\u001b[0m\n\u001b[0;32m    638\u001b[0m             \u001b[1;32mimport\u001b[0m \u001b[0mnumpy\u001b[0m\u001b[1;33m.\u001b[0m\u001b[0mma\u001b[0m\u001b[1;33m.\u001b[0m\u001b[0mmrecords\u001b[0m \u001b[1;32mas\u001b[0m \u001b[0mmrecords\u001b[0m\u001b[1;33m\u001b[0m\u001b[1;33m\u001b[0m\u001b[0m\n",
      "\u001b[1;32mc:\\Users\\farras\\AppData\\Local\\Programs\\Python\\Python38\\lib\\site-packages\\pandas\\core\\internals\\construction.py\u001b[0m in \u001b[0;36mdict_to_mgr\u001b[1;34m(data, index, columns, dtype, typ, copy)\u001b[0m\n\u001b[0;32m    500\u001b[0m         \u001b[1;31m# TODO: can we get rid of the dt64tz special case above?\u001b[0m\u001b[1;33m\u001b[0m\u001b[1;33m\u001b[0m\u001b[1;33m\u001b[0m\u001b[0m\n\u001b[0;32m    501\u001b[0m \u001b[1;33m\u001b[0m\u001b[0m\n\u001b[1;32m--> 502\u001b[1;33m     \u001b[1;32mreturn\u001b[0m \u001b[0marrays_to_mgr\u001b[0m\u001b[1;33m(\u001b[0m\u001b[0marrays\u001b[0m\u001b[1;33m,\u001b[0m \u001b[0mcolumns\u001b[0m\u001b[1;33m,\u001b[0m \u001b[0mindex\u001b[0m\u001b[1;33m,\u001b[0m \u001b[0mdtype\u001b[0m\u001b[1;33m=\u001b[0m\u001b[0mdtype\u001b[0m\u001b[1;33m,\u001b[0m \u001b[0mtyp\u001b[0m\u001b[1;33m=\u001b[0m\u001b[0mtyp\u001b[0m\u001b[1;33m,\u001b[0m \u001b[0mconsolidate\u001b[0m\u001b[1;33m=\u001b[0m\u001b[0mcopy\u001b[0m\u001b[1;33m)\u001b[0m\u001b[1;33m\u001b[0m\u001b[1;33m\u001b[0m\u001b[0m\n\u001b[0m\u001b[0;32m    503\u001b[0m \u001b[1;33m\u001b[0m\u001b[0m\n\u001b[0;32m    504\u001b[0m \u001b[1;33m\u001b[0m\u001b[0m\n",
      "\u001b[1;32mc:\\Users\\farras\\AppData\\Local\\Programs\\Python\\Python38\\lib\\site-packages\\pandas\\core\\internals\\construction.py\u001b[0m in \u001b[0;36marrays_to_mgr\u001b[1;34m(arrays, columns, index, dtype, verify_integrity, typ, consolidate)\u001b[0m\n\u001b[0;32m    118\u001b[0m         \u001b[1;31m# figure out the index, if necessary\u001b[0m\u001b[1;33m\u001b[0m\u001b[1;33m\u001b[0m\u001b[1;33m\u001b[0m\u001b[0m\n\u001b[0;32m    119\u001b[0m         \u001b[1;32mif\u001b[0m \u001b[0mindex\u001b[0m \u001b[1;32mis\u001b[0m \u001b[1;32mNone\u001b[0m\u001b[1;33m:\u001b[0m\u001b[1;33m\u001b[0m\u001b[1;33m\u001b[0m\u001b[0m\n\u001b[1;32m--> 120\u001b[1;33m             \u001b[0mindex\u001b[0m \u001b[1;33m=\u001b[0m \u001b[0m_extract_index\u001b[0m\u001b[1;33m(\u001b[0m\u001b[0marrays\u001b[0m\u001b[1;33m)\u001b[0m\u001b[1;33m\u001b[0m\u001b[1;33m\u001b[0m\u001b[0m\n\u001b[0m\u001b[0;32m    121\u001b[0m         \u001b[1;32melse\u001b[0m\u001b[1;33m:\u001b[0m\u001b[1;33m\u001b[0m\u001b[1;33m\u001b[0m\u001b[0m\n\u001b[0;32m    122\u001b[0m             \u001b[0mindex\u001b[0m \u001b[1;33m=\u001b[0m \u001b[0mensure_index\u001b[0m\u001b[1;33m(\u001b[0m\u001b[0mindex\u001b[0m\u001b[1;33m)\u001b[0m\u001b[1;33m\u001b[0m\u001b[1;33m\u001b[0m\u001b[0m\n",
      "\u001b[1;32mc:\\Users\\farras\\AppData\\Local\\Programs\\Python\\Python38\\lib\\site-packages\\pandas\\core\\internals\\construction.py\u001b[0m in \u001b[0;36m_extract_index\u001b[1;34m(data)\u001b[0m\n\u001b[0;32m    672\u001b[0m             \u001b[0mlengths\u001b[0m \u001b[1;33m=\u001b[0m \u001b[0mlist\u001b[0m\u001b[1;33m(\u001b[0m\u001b[0mset\u001b[0m\u001b[1;33m(\u001b[0m\u001b[0mraw_lengths\u001b[0m\u001b[1;33m)\u001b[0m\u001b[1;33m)\u001b[0m\u001b[1;33m\u001b[0m\u001b[1;33m\u001b[0m\u001b[0m\n\u001b[0;32m    673\u001b[0m             \u001b[1;32mif\u001b[0m \u001b[0mlen\u001b[0m\u001b[1;33m(\u001b[0m\u001b[0mlengths\u001b[0m\u001b[1;33m)\u001b[0m \u001b[1;33m>\u001b[0m \u001b[1;36m1\u001b[0m\u001b[1;33m:\u001b[0m\u001b[1;33m\u001b[0m\u001b[1;33m\u001b[0m\u001b[0m\n\u001b[1;32m--> 674\u001b[1;33m                 \u001b[1;32mraise\u001b[0m \u001b[0mValueError\u001b[0m\u001b[1;33m(\u001b[0m\u001b[1;34m\"All arrays must be of the same length\"\u001b[0m\u001b[1;33m)\u001b[0m\u001b[1;33m\u001b[0m\u001b[1;33m\u001b[0m\u001b[0m\n\u001b[0m\u001b[0;32m    675\u001b[0m \u001b[1;33m\u001b[0m\u001b[0m\n\u001b[0;32m    676\u001b[0m             \u001b[1;32mif\u001b[0m \u001b[0mhave_dicts\u001b[0m\u001b[1;33m:\u001b[0m\u001b[1;33m\u001b[0m\u001b[1;33m\u001b[0m\u001b[0m\n",
      "\u001b[1;31mValueError\u001b[0m: All arrays must be of the same length"
     ]
    }
   ],
   "source": [
    "df_magang = pd.DataFrame(dict_magang)\n",
    "df_magang"
   ]
  }
 ],
 "metadata": {
  "kernelspec": {
   "display_name": "Python 3.8.8 64-bit",
   "language": "python",
   "name": "python3"
  },
  "language_info": {
   "codemirror_mode": {
    "name": "ipython",
    "version": 3
   },
   "file_extension": ".py",
   "mimetype": "text/x-python",
   "name": "python",
   "nbconvert_exporter": "python",
   "pygments_lexer": "ipython3",
   "version": "3.8.8"
  },
  "orig_nbformat": 4,
  "vscode": {
   "interpreter": {
    "hash": "ad659c4510e8327c9668cc50a85cbb14a85502d291f4ab83c5d063e351f9ccf8"
   }
  }
 },
 "nbformat": 4,
 "nbformat_minor": 2
}
